{
  "nbformat": 4,
  "nbformat_minor": 0,
  "metadata": {
    "colab": {
      "provenance": [],
      "authorship_tag": "ABX9TyO+9ibHr2pdMp9dsAfPeYR5",
      "include_colab_link": true
    },
    "kernelspec": {
      "name": "python3",
      "display_name": "Python 3"
    },
    "language_info": {
      "name": "python"
    }
  },
  "cells": [
    {
      "cell_type": "markdown",
      "metadata": {
        "id": "view-in-github",
        "colab_type": "text"
      },
      "source": [
        "<a href=\"https://colab.research.google.com/github/nithin-k-mundrathi/LLM-practice/blob/main/RAG/RAG_C_2/3_Embedding_Based_Retrieval.ipynb\" target=\"_parent\"><img src=\"https://colab.research.google.com/assets/colab-badge.svg\" alt=\"Open In Colab\"/></a>"
      ]
    },
    {
      "cell_type": "code",
      "execution_count": 3,
      "metadata": {
        "id": "ocNiYNOaQqWh"
      },
      "outputs": [],
      "source": [
        "%%capture\n",
        "try:\n",
        "  import deeplake\n",
        "except:\n",
        "  !pip install deeplake==3.9.18\n",
        "  import deeplake"
      ]
    },
    {
      "cell_type": "code",
      "source": [
        "\n",
        "#Google Drive option to store API Keys\n",
        "#Store you key in a file and read it(you can type it directly in the notebook but it will be visible for somebody next to you)\n",
        "from google.colab import drive\n",
        "drive.mount('/content/drive')"
      ],
      "metadata": {
        "colab": {
          "base_uri": "https://localhost:8080/"
        },
        "id": "Af3XpmusRGLA",
        "outputId": "e8f811ee-500d-4f62-d41a-7d5dfb4fd611"
      },
      "execution_count": 1,
      "outputs": [
        {
          "output_type": "stream",
          "name": "stdout",
          "text": [
            "Drive already mounted at /content/drive; to attempt to forcibly remount, call drive.mount(\"/content/drive\", force_remount=True).\n"
          ]
        }
      ]
    },
    {
      "cell_type": "code",
      "source": [
        "\n",
        "# For Google Colab and Activeloop while waiting for Activeloop (April 2024) pending new version\n",
        "#This line writes the string \"nameserver 8.8.8.8\" to the file. This is specifying that the DNS server the system\n",
        "#should use is at the IP address 8.8.8.8, which is one of Google's Public DNS servers.\n",
        "with open('/etc/resolv.conf', 'w') as file:\n",
        "   file.write(\"nameserver 8.8.8.8\")"
      ],
      "metadata": {
        "id": "GOwKiCvyRK9M"
      },
      "execution_count": 2,
      "outputs": []
    },
    {
      "cell_type": "code",
      "source": [
        "#Retrieving and setting the Activeloop API token\n",
        "f = open(\"activeloop.txt\", \"r\")\n",
        "API_token=f.readline().strip()\n",
        "f.close()\n",
        "ACTIVELOOP_TOKEN=API_token\n",
        "os.environ['ACTIVELOOP_TOKEN'] =ACTIVELOOP_TOKEN"
      ],
      "metadata": {
        "id": "LFHFMnkdRX9k"
      },
      "execution_count": 7,
      "outputs": []
    },
    {
      "cell_type": "code",
      "source": [
        "%%capture\n",
        "!pip install sentence-transformers==3.0.1"
      ],
      "metadata": {
        "id": "GXdIlSx8RHl_"
      },
      "execution_count": 54,
      "outputs": []
    },
    {
      "cell_type": "code",
      "source": [
        "from sentence_transformers import SentenceTransformer"
      ],
      "metadata": {
        "id": "sYLoN7PoY7BP"
      },
      "execution_count": null,
      "outputs": []
    },
    {
      "cell_type": "code",
      "source": [
        "vector_store_path = \"hub://nithinkmundrathi/space_exploration_v2\""
      ],
      "metadata": {
        "id": "qccOx_dRRica"
      },
      "execution_count": 25,
      "outputs": []
    },
    {
      "cell_type": "code",
      "source": [
        "from deeplake.core.vectorstore.deeplake_vectorstore import VectorStore\n",
        "import deeplake.util\n",
        "ds = deeplake.load(vector_store_path)\n",
        "\n",
        "vector_store = VectorStore(path=vector_store_path)"
      ],
      "metadata": {
        "colab": {
          "base_uri": "https://localhost:8080/"
        },
        "id": "BF1AndKTRmmJ",
        "outputId": "3c0ba852-5084-42a7-f6fc-33b201b4c50f"
      },
      "execution_count": 26,
      "outputs": [
        {
          "output_type": "stream",
          "name": "stderr",
          "text": [
            "/"
          ]
        },
        {
          "output_type": "stream",
          "name": "stdout",
          "text": [
            "This dataset can be visualized in Jupyter Notebook by ds.visualize() or at https://app.activeloop.ai/nithinkmundrathi/space_exploration_v2\n",
            "\n"
          ]
        },
        {
          "output_type": "stream",
          "name": "stderr",
          "text": [
            "\r \r/usr/local/lib/python3.10/dist-packages/deeplake/util/warnings.py:7: UserWarning: Checking out dataset in read only mode as another machine has locked this version for writing.\n",
            "  warnings.warn(*args, **kwargs)\n",
            "\n",
            "|"
          ]
        },
        {
          "output_type": "stream",
          "name": "stdout",
          "text": [
            "hub://nithinkmundrathi/space_exploration_v2 loaded successfully.\n",
            "\n"
          ]
        },
        {
          "output_type": "stream",
          "name": "stderr",
          "text": [
            "\r \r\r\r"
          ]
        },
        {
          "output_type": "stream",
          "name": "stdout",
          "text": [
            "Deep Lake Dataset in hub://nithinkmundrathi/space_exploration_v2 already exists, loading from the storage\n"
          ]
        }
      ]
    },
    {
      "cell_type": "code",
      "source": [
        "ds.size_approx()"
      ],
      "metadata": {
        "colab": {
          "base_uri": "https://localhost:8080/"
        },
        "id": "V_jojHdvRoDO",
        "outputId": "ca5a7ea4-7ace-44aa-a3dd-f11c1b9cb6b6"
      },
      "execution_count": 27,
      "outputs": [
        {
          "output_type": "execute_result",
          "data": {
            "text/plain": [
              "58000000"
            ]
          },
          "metadata": {},
          "execution_count": 27
        }
      ]
    },
    {
      "cell_type": "markdown",
      "source": [
        "## Retrieval Query"
      ],
      "metadata": {
        "id": "gvgnXwaSSCoJ"
      }
    },
    {
      "cell_type": "code",
      "source": [
        "def embedding_function(texts, model=model_sentence):\n",
        "   if isinstance(texts, str):\n",
        "       texts = [texts]\n",
        "   texts = [t.replace(\"\\n\", \" \") for t in texts]\n",
        "   return [model.encode(data) for data in texts]"
      ],
      "metadata": {
        "id": "elI4aIXvR0sz"
      },
      "execution_count": 34,
      "outputs": []
    },
    {
      "cell_type": "code",
      "source": [
        "def get_user_prompt():\n",
        "    # Request user input for the search prompt\n",
        "    return input(\"Enter your search query: \")\n",
        "\n",
        "def search_query(prompt):\n",
        "    # Assuming `vector_store` and `embedding_function` are already defined\n",
        "    search_results = vector_store.search(embedding_data=prompt, embedding_function=embedding_function)\n",
        "    return search_results"
      ],
      "metadata": {
        "id": "7V-z89zrSFom"
      },
      "execution_count": 35,
      "outputs": []
    },
    {
      "cell_type": "code",
      "source": [
        "# Get the user's search query\n",
        "#user_prompt = get_user_prompt()\n",
        "# or enter prompt if it is in a queue\n",
        "user_prompt=\"Tell me about space exploration on the Moon and Mars.\"\n",
        "\n",
        "# Perform the search\n",
        "search_results = search_query(user_prompt)"
      ],
      "metadata": {
        "id": "VifSCKuWSJK2"
      },
      "execution_count": 36,
      "outputs": []
    },
    {
      "cell_type": "code",
      "source": [
        "# Print the search results\n",
        "print(len(search_results))"
      ],
      "metadata": {
        "colab": {
          "base_uri": "https://localhost:8080/"
        },
        "id": "TBuZL7BXSROV",
        "outputId": "2c857b98-bcc3-4272-85d8-c090642bd39b"
      },
      "execution_count": 37,
      "outputs": [
        {
          "output_type": "stream",
          "name": "stdout",
          "text": [
            "4\n"
          ]
        }
      ]
    },
    {
      "cell_type": "code",
      "source": [
        "search_results"
      ],
      "metadata": {
        "colab": {
          "base_uri": "https://localhost:8080/"
        },
        "id": "SZpKwXZTWW-t",
        "outputId": "92541e66-0217-42ab-dd4c-372d8bf2e930"
      },
      "execution_count": 38,
      "outputs": [
        {
          "output_type": "execute_result",
          "data": {
            "text/plain": [
              "{'id': ['84a0c012-cd58-11ef-bd7a-0242ac1c000c',\n",
              "  '84a0c648-cd58-11ef-bd7a-0242ac1c000c',\n",
              "  '84a0b3ba-cd58-11ef-bd7a-0242ac1c000c',\n",
              "  '84a0ce4a-cd58-11ef-bd7a-0242ac1c000c'],\n",
              " 'metadata': [{'source': 'llm.txt'},\n",
              "  {'source': 'llm.txt'},\n",
              "  {'source': 'llm.txt'},\n",
              "  {'source': 'llm.txt'}],\n",
              " 'text': ['rbiters, and in 2008 the Indian Moon Impact Probe and in 2023 the Chandrayaan-3 of India became the first spacecraft to land on the lunar south pole. Crewed exploration of the Moon began in 1968 with the Apollo 8 mission that successfully orbited the Moon, the first time any extraterrestrial object was orbited by humans. In 1969, the Apollo 11 mission marked the first time humans set foot upon another world. Crewed exploration of the Moon did not continue for long. The Apollo 17 mission in 1972 marked the sixth landing and the most recent human visit. Artemis 2 is scheduled to complete a crewed flyby of the Moon in 2025, and Artemis 3 will perform the first lunar landing since Apollo 17 with it scheduled for launch no earlier than 2026. Robotic missions are still pursued vigorously. Mars [ edit ] Main article: Exploration of Mars Surface of Mars by the Spirit rover (2004) The exploration of Mars has been an important part of the space exploration programs of the Soviet Union (later Rus',\n",
              "  \" [ edit ] Main article: Space advocacy Astronaut Buzz Aldrin had a personal Communion service when he first arrived on the surface of the Moon . The research that is conducted by national space exploration agencies, such as NASA and Roscosmos , is one of the reasons supporters cite to justify government expenses. Economic analyses of the NASA programs often showed ongoing economic benefits (such as NASA spin-offs ), generating many times the revenue of the cost of the program.  It is also argued that space exploration would lead to the extraction of resources on other planets and especially asteroids, which contain billions of dollars worth of minerals and metals. Such expeditions could generate a lot of revenue.  In addition, it has been argued that space exploration programs help inspire youth to study in science and engineering.  Space exploration also gives scientists the ability to perform experiments in other settings and expand humanity's knowledge.  Another claim is that space \",\n",
              "  'Exploration of space, planets, and moons \"Space Exploration\" redirects here. For the company, see SpaceX . For broader coverage of this topic, see Exploration . Buzz Aldrin taking a core sample of the Moon during the Apollo 11 mission Self-portrait of Curiosity rover on Mars \\'s surface Part of a series on Spaceflight History History of spaceflight Space Race Timeline of spaceflight Space probes Lunar missions Mars missions Applications Communications Earth observation Exploration Espionage Military Navigation Settlement Telescopes Tourism Spacecraft Robotic spacecraft Satellite Space probe Cargo spacecraft Crewed spacecraft Apollo Lunar Module Space capsules Space Shuttle Space stations Spaceplanes Vostok Space launch Spaceport Launch pad Expendable and reusable launch vehicles Escape velocity Non-rocket spacelaunch Spaceflight types Sub-orbital Orbital Interplanetary Interstellar Intergalactic List of space organizations Space agencies Space forces Companies Spaceflight portal v t e S',\n",
              "  \"m Energy development Exploration of Mars Space tourism Private spaceflight Space colonization Interstellar spaceflight Deep space exploration Human outpost Mars to Stay NewSpace NASA lunar outpost concepts Other [ edit ] List of spaceflights Timeline of Solar System exploration List of artificial objects on extra-terrestrial surfaces Space station Space telescope Sample return mission Atmospheric reentry Space and survival List of spaceflight-related accidents and incidents Religion in space Militarisation of space French space program Russian explorers U.S. space exploration history on U.S. stamps Deep-sea exploration Arctic exploration Criticism of space exploration\\n\\n\\nRobotic vehicle for Mars surface exploration This article is about autonomous exploration vehicles. For crewed vehicles on Mars, see Crewed Mars rover . NASA's Curiosity rover, selfie , 2015 A Mars rover is a remote-controlled motor vehicle designed to travel on the surface of Mars . Rovers have several advantages over \"],\n",
              " 'score': [0.6055324673652649,\n",
              "  0.5891704559326172,\n",
              "  0.5846170783042908,\n",
              "  0.5751436948776245]}"
            ]
          },
          "metadata": {},
          "execution_count": 38
        }
      ]
    },
    {
      "cell_type": "code",
      "source": [
        "# Function to wrap text to a specified width\n",
        "def wrap_text(text, width=80):\n",
        "    lines = []\n",
        "    while len(text) > width:\n",
        "        split_index = text.rfind(' ', 0, width)\n",
        "        if split_index == -1:\n",
        "            split_index = width\n",
        "        lines.append(text[:split_index])\n",
        "        text = text[split_index:].strip()\n",
        "    lines.append(text)\n",
        "    return '\\n'.join(lines)"
      ],
      "metadata": {
        "id": "3ccWcLIgWks-"
      },
      "execution_count": 39,
      "outputs": []
    },
    {
      "cell_type": "code",
      "source": [
        "import textwrap\n",
        "\n",
        "# Assuming the search results are ordered with the top result first\n",
        "top_score = search_results['score'][0]\n",
        "top_text = search_results['text'][0].strip()\n",
        "top_metadata = search_results['metadata'][0]['source']\n",
        "\n",
        "# Print the top search result\n",
        "print(\"Top Search Result:\")\n",
        "print(f\"Score: {top_score}\")\n",
        "print(f\"Source: {top_metadata}\")\n",
        "print(\"Text:\")\n",
        "print(wrap_text(top_text))"
      ],
      "metadata": {
        "colab": {
          "base_uri": "https://localhost:8080/"
        },
        "id": "FDVxwX6aSf0s",
        "outputId": "a8ba1e8a-0541-47c6-ed1d-60513cac88ef"
      },
      "execution_count": 40,
      "outputs": [
        {
          "output_type": "stream",
          "name": "stdout",
          "text": [
            "Top Search Result:\n",
            "Score: 0.6055324673652649\n",
            "Source: llm.txt\n",
            "Text:\n",
            "rbiters, and in 2008 the Indian Moon Impact Probe and in 2023 the Chandrayaan-3\n",
            "of India became the first spacecraft to land on the lunar south pole. Crewed\n",
            "exploration of the Moon began in 1968 with the Apollo 8 mission that\n",
            "successfully orbited the Moon, the first time any extraterrestrial object was\n",
            "orbited by humans. In 1969, the Apollo 11 mission marked the first time humans\n",
            "set foot upon another world. Crewed exploration of the Moon did not continue\n",
            "for long. The Apollo 17 mission in 1972 marked the sixth landing and the most\n",
            "recent human visit. Artemis 2 is scheduled to complete a crewed flyby of the\n",
            "Moon in 2025, and Artemis 3 will perform the first lunar landing since Apollo\n",
            "17 with it scheduled for launch no earlier than 2026. Robotic missions are\n",
            "still pursued vigorously. Mars [ edit ] Main article: Exploration of Mars\n",
            "Surface of Mars by the Spirit rover (2004) The exploration of Mars has been an\n",
            "important part of the space exploration programs of the Soviet Union (later Rus\n"
          ]
        }
      ]
    },
    {
      "cell_type": "markdown",
      "source": [
        "##Augmented Input"
      ],
      "metadata": {
        "id": "nkbn44U6TSzB"
      }
    },
    {
      "cell_type": "code",
      "source": [
        "augmented_input=user_prompt+\" \"+top_text"
      ],
      "metadata": {
        "id": "zb0Oepr9TOdv"
      },
      "execution_count": 42,
      "outputs": []
    },
    {
      "cell_type": "code",
      "source": [
        "print(augmented_input)"
      ],
      "metadata": {
        "colab": {
          "base_uri": "https://localhost:8080/"
        },
        "id": "wowBmFtATVD7",
        "outputId": "aa629fb6-6eaf-4c2e-d1f3-a2c19b78e960"
      },
      "execution_count": 43,
      "outputs": [
        {
          "output_type": "stream",
          "name": "stdout",
          "text": [
            "Tell me about space exploration on the Moon and Mars. rbiters, and in 2008 the Indian Moon Impact Probe and in 2023 the Chandrayaan-3 of India became the first spacecraft to land on the lunar south pole. Crewed exploration of the Moon began in 1968 with the Apollo 8 mission that successfully orbited the Moon, the first time any extraterrestrial object was orbited by humans. In 1969, the Apollo 11 mission marked the first time humans set foot upon another world. Crewed exploration of the Moon did not continue for long. The Apollo 17 mission in 1972 marked the sixth landing and the most recent human visit. Artemis 2 is scheduled to complete a crewed flyby of the Moon in 2025, and Artemis 3 will perform the first lunar landing since Apollo 17 with it scheduled for launch no earlier than 2026. Robotic missions are still pursued vigorously. Mars [ edit ] Main article: Exploration of Mars Surface of Mars by the Spirit rover (2004) The exploration of Mars has been an important part of the space exploration programs of the Soviet Union (later Rus\n"
          ]
        }
      ]
    },
    {
      "cell_type": "code",
      "source": [
        "%%capture\n",
        "!pip install openai==1.55.3 httpx==0.27.2 --force-reinstall --quiet"
      ],
      "metadata": {
        "id": "A-DiFK1mWqzm"
      },
      "execution_count": 44,
      "outputs": []
    },
    {
      "cell_type": "code",
      "source": [
        "f = open(\"/content/open-aikey.txt\", \"r\")\n",
        "API_KEY=f.readline().strip()\n",
        "f.close()\n",
        "#The OpenAI Key\n",
        "import os\n",
        "import openai\n",
        "os.environ['OPENAI_API_KEY'] =API_KEY\n",
        "openai.api_key = os.getenv(\"OPENAI_API_KEY\")"
      ],
      "metadata": {
        "id": "IM0FfcGuWwr8"
      },
      "execution_count": 46,
      "outputs": []
    },
    {
      "cell_type": "code",
      "source": [
        "import openai\n",
        "from openai import OpenAI\n",
        "import time\n",
        "\n",
        "client = OpenAI()\n",
        "gpt_model=\"gpt-4o-mini\"\n",
        "start_time = time.time()  # Start timing before the request\n",
        "\n",
        "def call_gpt4_with_full_text(itext):\n",
        "    # Join all lines to form a single string\n",
        "    text_input = '\\n'.join(itext)\n",
        "    prompt = f\"Please summarize or elaborate on the following content:\\n{text_input}\"\n",
        "\n",
        "    try:\n",
        "        response = client.chat.completions.create(\n",
        "            model=gpt_model,\n",
        "            messages=[\n",
        "                {\"role\": \"system\", \"content\": \"You are a space exploration expert.\"},\n",
        "                {\"role\": \"assistant\", \"content\": \"You can read the input and answer in detail.\"},\n",
        "                {\"role\": \"user\", \"content\": prompt}\n",
        "            ],\n",
        "            temperature=0.1  # Fine-tune parameters as needed\n",
        "        )\n",
        "        return response.choices[0].message.content\n",
        "    except Exception as e:\n",
        "        return str(e)\n",
        "\n",
        "gpt4_response = call_gpt4_with_full_text(augmented_input)\n",
        "\n",
        "response_time = time.time() - start_time  # Measure response time\n",
        "print(f\"Response Time: {response_time:.2f} seconds\")  # Print response time\n",
        "\n",
        "print(gpt_model, \"Response:\", gpt4_response)"
      ],
      "metadata": {
        "colab": {
          "base_uri": "https://localhost:8080/"
        },
        "id": "Cj5igSayWwu_",
        "outputId": "d35eb832-4b1b-4ffc-a510-8fa47c90e7bf"
      },
      "execution_count": 47,
      "outputs": [
        {
          "output_type": "stream",
          "name": "stdout",
          "text": [
            "Response Time: 9.20 seconds\n",
            "gpt-4o-mini Response: The content discusses significant milestones in space exploration, particularly focusing on the Moon and Mars. Here’s a detailed summary:\n",
            "\n",
            "### Moon Exploration\n",
            "\n",
            "1. **Early Missions**:\n",
            "   - The exploration of the Moon began with the **Apollo program** in the late 1960s. \n",
            "   - **Apollo 8** (1968) was a landmark mission as it successfully orbited the Moon, marking the first time humans orbited another celestial body.\n",
            "   - **Apollo 11** (1969) was historic for being the first mission where humans set foot on the Moon, with astronauts Neil Armstrong and Buzz Aldrin landing on the lunar surface.\n",
            "\n",
            "2. **Subsequent Missions**:\n",
            "   - The Apollo program continued with several missions, with **Apollo 17** (1972) being the last crewed mission to the Moon, marking the sixth lunar landing and the most recent human visit to the Moon.\n",
            "\n",
            "3. **Recent Developments**:\n",
            "   - In 2008, India launched the **Indian Moon Impact Probe**, contributing to lunar exploration.\n",
            "   - In 2023, India's **Chandrayaan-3** mission successfully landed on the lunar south pole, making it the first spacecraft to achieve this feat.\n",
            "   - Future missions include **Artemis 2**, scheduled for a crewed flyby of the Moon in 2025, and **Artemis 3**, which aims to land astronauts on the Moon again, with a launch planned no earlier than 2026.\n",
            "\n",
            "### Mars Exploration\n",
            "\n",
            "1. **Robotic Missions**:\n",
            "   - Mars exploration has been a significant focus for various space agencies, including the Soviet Union and later Russia.\n",
            "   - The **Spirit rover** (2004) was one of the key missions that explored the Martian surface, providing valuable data about the planet's geology and climate.\n",
            "\n",
            "2. **Ongoing Efforts**:\n",
            "   - Robotic missions to Mars continue to be pursued vigorously, with various rovers and orbiters currently studying the planet to gather information that could support future human exploration.\n",
            "\n",
            "### Conclusion\n",
            "\n",
            "The exploration of both the Moon and Mars has been marked by significant achievements, from the historic Apollo missions to recent advancements by countries like India. The future of lunar exploration looks promising with the Artemis program, while Mars remains a focal point for robotic exploration, paving the way for potential human missions in the coming decades.\n"
          ]
        }
      ]
    },
    {
      "cell_type": "markdown",
      "source": [
        "## Evaluation"
      ],
      "metadata": {
        "id": "vuE--rYWX6NH"
      }
    },
    {
      "cell_type": "code",
      "source": [
        "from sklearn.feature_extraction.text import TfidfVectorizer\n",
        "from sklearn.metrics.pairwise import cosine_similarity\n",
        "\n",
        "def calculate_cosine_similarity(text1, text2):\n",
        "    vectorizer = TfidfVectorizer()\n",
        "    tfidf = vectorizer.fit_transform([text1, text2])\n",
        "    similarity = cosine_similarity(tfidf[0:1], tfidf[1:2])\n",
        "    return similarity[0][0]\n",
        "\n",
        "similarity_score = calculate_cosine_similarity(user_prompt, gpt4_response)\n",
        "\n",
        "print(f\"Cosine Similarity Score: {similarity_score:.3f}\")"
      ],
      "metadata": {
        "colab": {
          "base_uri": "https://localhost:8080/"
        },
        "id": "0XERVatTX0RE",
        "outputId": "2d9b25e2-1249-42f7-aac5-5fc68619ec38"
      },
      "execution_count": 48,
      "outputs": [
        {
          "output_type": "stream",
          "name": "stdout",
          "text": [
            "Cosine Similarity Score: 0.422\n"
          ]
        }
      ]
    },
    {
      "cell_type": "code",
      "source": [
        "similarity_score = calculate_cosine_similarity(augmented_input, gpt4_response)\n",
        "\n",
        "print(f\"Cosine Similarity Score: {similarity_score:.3f}\")"
      ],
      "metadata": {
        "colab": {
          "base_uri": "https://localhost:8080/"
        },
        "id": "w9iqonmJX7P3",
        "outputId": "734ce071-2c9b-4010-a636-979f0d91d4b9"
      },
      "execution_count": 49,
      "outputs": [
        {
          "output_type": "stream",
          "name": "stdout",
          "text": [
            "Cosine Similarity Score: 0.852\n"
          ]
        }
      ]
    },
    {
      "cell_type": "code",
      "source": [
        "def calculate_cosine_similarity_with_embeddings(text1, text2):\n",
        "    embeddings1 = model_sentence.encode(text1)\n",
        "    embeddings2 = model_sentence.encode(text2)\n",
        "    similarity = cosine_similarity([embeddings1], [embeddings2])\n",
        "    return similarity[0][0]\n",
        "\n",
        "similarity_score = calculate_cosine_similarity_with_embeddings(augmented_input, gpt4_response)\n",
        "print(f\"Cosine Similarity Score: {similarity_score:.3f}\")"
      ],
      "metadata": {
        "colab": {
          "base_uri": "https://localhost:8080/"
        },
        "id": "Hp6pLZUjX-st",
        "outputId": "3baed8fe-3980-434d-8c91-9373d6a53f9d"
      },
      "execution_count": 53,
      "outputs": [
        {
          "output_type": "stream",
          "name": "stdout",
          "text": [
            "Cosine Similarity Score: 0.839\n"
          ]
        }
      ]
    },
    {
      "cell_type": "code",
      "source": [],
      "metadata": {
        "id": "fXSyu_31YBME"
      },
      "execution_count": null,
      "outputs": []
    }
  ]
}