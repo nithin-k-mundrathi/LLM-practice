{
  "nbformat": 4,
  "nbformat_minor": 0,
  "metadata": {
    "colab": {
      "provenance": [],
      "gpuType": "T4",
      "authorship_tag": "ABX9TyM0/7NFO76c9cF6r24IiyJH",
      "include_colab_link": true
    },
    "kernelspec": {
      "name": "python3",
      "display_name": "Python 3"
    },
    "language_info": {
      "name": "python"
    },
    "accelerator": "GPU"
  },
  "cells": [
    {
      "cell_type": "markdown",
      "metadata": {
        "id": "view-in-github",
        "colab_type": "text"
      },
      "source": [
        "<a href=\"https://colab.research.google.com/github/nithin-k-mundrathi/LLM-practice/blob/main/RAG/RAG_C_6/2_Scaling_Pipeline_VectorStore.ipynb\" target=\"_parent\"><img src=\"https://colab.research.google.com/assets/colab-badge.svg\" alt=\"Open In Colab\"/></a>"
      ]
    },
    {
      "cell_type": "code",
      "execution_count": 1,
      "metadata": {
        "colab": {
          "base_uri": "https://localhost:8080/"
        },
        "id": "OzGUpeSQom00",
        "outputId": "6e63d9f0-aaee-4dbc-ca95-7fe10d87d046"
      },
      "outputs": [
        {
          "output_type": "stream",
          "name": "stdout",
          "text": [
            "Mounted at /content/drive\n"
          ]
        }
      ],
      "source": [
        "from google.colab import drive\n",
        "drive.mount('/content/drive')"
      ]
    },
    {
      "cell_type": "code",
      "source": [
        "%%capture\n",
        "!pip install pinecone-client==5.0.1"
      ],
      "metadata": {
        "id": "98FuV76KozSk"
      },
      "execution_count": 1,
      "outputs": []
    },
    {
      "cell_type": "code",
      "source": [
        "f = open(\"pinecone.txt\", \"r\")\n",
        "PINECONE_API_KEY=f.readline()\n",
        "f.close()"
      ],
      "metadata": {
        "id": "-lSogUj0o1sD"
      },
      "execution_count": 3,
      "outputs": []
    },
    {
      "cell_type": "markdown",
      "source": [
        "## Processing bank churn dataset"
      ],
      "metadata": {
        "id": "nM6BD3Fvp0WS"
      }
    },
    {
      "cell_type": "code",
      "source": [
        "import pandas as pd\n",
        "# Load the CSV file\n",
        "file_path = '/content/Customer-Churn-Records.csv'\n",
        "data1 = pd.read_csv(file_path).loc[:300,:]"
      ],
      "metadata": {
        "id": "K0SDPinlpwMD"
      },
      "execution_count": 35,
      "outputs": []
    },
    {
      "cell_type": "code",
      "source": [
        "# Count the chunks\n",
        "number_of_lines = len(data1)\n",
        "print(\"Number of lines: \",number_of_lines)"
      ],
      "metadata": {
        "colab": {
          "base_uri": "https://localhost:8080/"
        },
        "id": "z8FiRQe7p9L0",
        "outputId": "da983b3c-23df-48f9-a061-db3005ceedfa"
      },
      "execution_count": 36,
      "outputs": [
        {
          "output_type": "stream",
          "name": "stdout",
          "text": [
            "Number of lines:  301\n"
          ]
        }
      ]
    },
    {
      "cell_type": "code",
      "source": [
        "import pandas as pd\n",
        "# Initialize an empty list to store the lines\n",
        "output_lines = []\n",
        "\n",
        "# Iterate over each row in the DataFrame\n",
        "for index, row in data1.iterrows():\n",
        "    # Create a list of \"column_name: value\" for each column in the row\n",
        "    row_data = [f\"{col}: {row[col]}\" for col in data1.columns]\n",
        "    # Join the list into a single string separated by spaces\n",
        "    line = ' '.join(row_data)\n",
        "    # Append the line to the output list\n",
        "    output_lines.append(line)\n",
        "\n",
        "# Display or further process `output_lines` as needed\n",
        "for line in output_lines[:3]:  # Displaying first 5 lines for preview\n",
        "    print(line)"
      ],
      "metadata": {
        "colab": {
          "base_uri": "https://localhost:8080/"
        },
        "id": "nWF8Zmk_p-19",
        "outputId": "a8323575-2535-4c0f-d670-dd60ccab2b80"
      },
      "execution_count": 37,
      "outputs": [
        {
          "output_type": "stream",
          "name": "stdout",
          "text": [
            "RowNumber: 1 CustomerId: 15634602 Surname: Hargrave CreditScore: 619 Geography: France Gender: Female Age: 42 Tenure: 2 Balance: 0.0 NumOfProducts: 1 HasCrCard: 1 IsActiveMember: 1 EstimatedSalary: 101348.88 Exited: 1 Complain: 1 Satisfaction Score: 2 Card Type: DIAMOND Point Earned: 464\n",
            "RowNumber: 2 CustomerId: 15647311 Surname: Hill CreditScore: 608 Geography: Spain Gender: Female Age: 41 Tenure: 1 Balance: 83807.86 NumOfProducts: 1 HasCrCard: 0 IsActiveMember: 1 EstimatedSalary: 112542.58 Exited: 0 Complain: 1 Satisfaction Score: 3 Card Type: DIAMOND Point Earned: 456\n",
            "RowNumber: 3 CustomerId: 15619304 Surname: Onio CreditScore: 502 Geography: France Gender: Female Age: 42 Tenure: 8 Balance: 159660.8 NumOfProducts: 3 HasCrCard: 1 IsActiveMember: 0 EstimatedSalary: 113931.57 Exited: 1 Complain: 1 Satisfaction Score: 3 Card Type: DIAMOND Point Earned: 377\n"
          ]
        }
      ]
    },
    {
      "cell_type": "code",
      "source": [
        "lines = output_lines.copy()\n",
        "# Count the lines\n",
        "number_of_lines = len(lines)\n",
        "print(\"Number of lines: \",number_of_lines)"
      ],
      "metadata": {
        "colab": {
          "base_uri": "https://localhost:8080/"
        },
        "id": "r3AhpzvWqBUP",
        "outputId": "0cb18547-f8d5-47dc-d03c-dbf8ec1271af"
      },
      "execution_count": 38,
      "outputs": [
        {
          "output_type": "stream",
          "name": "stdout",
          "text": [
            "Number of lines:  301\n"
          ]
        }
      ]
    },
    {
      "cell_type": "markdown",
      "source": [
        "## Chunking and embedding the dataset"
      ],
      "metadata": {
        "id": "gJLKeqV8qLo4"
      }
    },
    {
      "cell_type": "code",
      "source": [
        "import time\n",
        "start_time = time.time()  # Start timing before the request\n",
        "# Initialize an empty list for the chunks\n",
        "chunks = []\n",
        "# Add each line as a separate chunk to the chunks list\n",
        "for line in lines:\n",
        "    chunks.append(line)  # Each line becomes its own chunk\n",
        "\n",
        "# Now, each line is treated as a separate chunk\n",
        "print(f\"Total number of chunks: {len(chunks)}\")\n",
        "response_time = time.time() - start_time  # Measure response time\n",
        "print(f\"Response Time: {response_time:.2f} seconds\")  # Print response time"
      ],
      "metadata": {
        "colab": {
          "base_uri": "https://localhost:8080/"
        },
        "id": "UCnrhiAgqFYL",
        "outputId": "56243d40-dccc-4c1c-b990-d5bf50b39279"
      },
      "execution_count": 39,
      "outputs": [
        {
          "output_type": "stream",
          "name": "stdout",
          "text": [
            "Total number of chunks: 301\n",
            "Response Time: 0.00 seconds\n"
          ]
        }
      ]
    },
    {
      "cell_type": "code",
      "source": [
        "for i in range(3):\n",
        "    print(len(chunks[i]))\n",
        "    print(chunks[i])"
      ],
      "metadata": {
        "colab": {
          "base_uri": "https://localhost:8080/"
        },
        "id": "yixqc8LUqRTw",
        "outputId": "b37e0688-3883-49fa-dfc4-9a9afc6650e4"
      },
      "execution_count": 40,
      "outputs": [
        {
          "output_type": "stream",
          "name": "stdout",
          "text": [
            "288\n",
            "RowNumber: 1 CustomerId: 15634602 Surname: Hargrave CreditScore: 619 Geography: France Gender: Female Age: 42 Tenure: 2 Balance: 0.0 NumOfProducts: 1 HasCrCard: 1 IsActiveMember: 1 EstimatedSalary: 101348.88 Exited: 1 Complain: 1 Satisfaction Score: 2 Card Type: DIAMOND Point Earned: 464\n",
            "288\n",
            "RowNumber: 2 CustomerId: 15647311 Surname: Hill CreditScore: 608 Geography: Spain Gender: Female Age: 41 Tenure: 1 Balance: 83807.86 NumOfProducts: 1 HasCrCard: 0 IsActiveMember: 1 EstimatedSalary: 112542.58 Exited: 0 Complain: 1 Satisfaction Score: 3 Card Type: DIAMOND Point Earned: 456\n",
            "289\n",
            "RowNumber: 3 CustomerId: 15619304 Surname: Onio CreditScore: 502 Geography: France Gender: Female Age: 42 Tenure: 8 Balance: 159660.8 NumOfProducts: 3 HasCrCard: 1 IsActiveMember: 0 EstimatedSalary: 113931.57 Exited: 1 Complain: 1 Satisfaction Score: 3 Card Type: DIAMOND Point Earned: 377\n"
          ]
        }
      ]
    },
    {
      "cell_type": "markdown",
      "source": [
        "## Embedding"
      ],
      "metadata": {
        "id": "UixovyW4qU4n"
      }
    },
    {
      "cell_type": "code",
      "source": [
        "from sentence_transformers import SentenceTransformer\n",
        "model_sentence = SentenceTransformer('all-MiniLm-L6-v2')"
      ],
      "metadata": {
        "id": "JLy-EQk7qTPJ"
      },
      "execution_count": 41,
      "outputs": []
    },
    {
      "cell_type": "code",
      "source": [
        "def get_embedding(texts, model= model_sentence):\n",
        "    texts = [text.replace(\"\\n\", \" \") for text in texts]  # Clean input texts\n",
        "    embeddings = [model.encode(data,ignore_errors=True) for data in texts]  # Extract embeddings\n",
        "    return embeddings"
      ],
      "metadata": {
        "id": "kekfFd5LqoN-"
      },
      "execution_count": 11,
      "outputs": []
    },
    {
      "cell_type": "markdown",
      "source": [
        "## Embedding the Chunks"
      ],
      "metadata": {
        "id": "F0KlA3dZrAAx"
      }
    },
    {
      "cell_type": "code",
      "source": [
        "def embed_chunks(chunks, embedding_model=model_sentence, batch_size=1000, pause_time=3):\n",
        "    start_time = time.time()  # Start timing the operation\n",
        "    embeddings = []  # Initialize an empty list to store the embeddings\n",
        "    counter = 1  # Batch counter\n",
        "\n",
        "    # Process chunks in batches\n",
        "    for i in range(0, len(chunks), batch_size):\n",
        "        chunk_batch = chunks[i:i + batch_size]  # Select a batch of chunks\n",
        "\n",
        "        # Get the embeddings for the current batch\n",
        "        current_embeddings = get_embedding(chunk_batch, model=embedding_model)\n",
        "\n",
        "        # Append the embeddings to the final list\n",
        "        embeddings.extend(current_embeddings)\n",
        "\n",
        "        # Print batch progress and pause\n",
        "        print(f\"Batch {counter} embedded.\")\n",
        "        counter += 1\n",
        "        time.sleep(pause_time)  # Optional: adjust or remove this depending on rate limits\n",
        "\n",
        "    # Print total response time\n",
        "    response_time = time.time() - start_time\n",
        "    print(f\"Total Response Time: {response_time:.2f} seconds\")\n",
        "\n",
        "    return embeddings\n",
        "\n",
        "embeddings = embed_chunks(chunks)"
      ],
      "metadata": {
        "colab": {
          "base_uri": "https://localhost:8080/"
        },
        "id": "If8GQB9pq7or",
        "outputId": "efc244c6-ecef-41b1-acde-7b991f41f54a"
      },
      "execution_count": 42,
      "outputs": [
        {
          "output_type": "stream",
          "name": "stdout",
          "text": [
            "Batch 1 embedded.\n",
            "Total Response Time: 5.03 seconds\n"
          ]
        }
      ]
    },
    {
      "cell_type": "code",
      "source": [
        "len(embeddings[0])"
      ],
      "metadata": {
        "colab": {
          "base_uri": "https://localhost:8080/"
        },
        "id": "jTYK4tDPtBqJ",
        "outputId": "3cd14080-3c88-4fe0-e83f-3f31f609cebc"
      },
      "execution_count": 43,
      "outputs": [
        {
          "output_type": "execute_result",
          "data": {
            "text/plain": [
              "384"
            ]
          },
          "metadata": {},
          "execution_count": 43
        }
      ]
    },
    {
      "cell_type": "code",
      "source": [
        "print(\"First embedding:\", embeddings[0])"
      ],
      "metadata": {
        "colab": {
          "base_uri": "https://localhost:8080/"
        },
        "id": "nOpfhCAUrGXJ",
        "outputId": "531f60fd-1438-4df5-ca46-99fb318dce20"
      },
      "execution_count": 13,
      "outputs": [
        {
          "output_type": "stream",
          "name": "stdout",
          "text": [
            "First embedding: [-6.38262108e-02  1.68146752e-02 -8.85062441e-02 -1.22976536e-03\n",
            " -4.86669950e-02  9.61372033e-02 -7.88151380e-03  2.11041179e-02\n",
            " -3.00560556e-02 -8.31193030e-02 -1.93316564e-02 -1.00771211e-01\n",
            " -2.05566362e-02 -8.04295912e-02 -1.02015629e-01 -2.12674364e-02\n",
            " -8.09553452e-03 -1.72354765e-02  4.28637192e-02 -9.35124978e-03\n",
            " -1.28633305e-02  6.10680021e-02 -2.29817666e-02 -2.99872644e-02\n",
            "  4.67298349e-04 -6.50635436e-02 -5.46946190e-02  3.07161584e-02\n",
            " -3.86336036e-02 -5.73025569e-02  4.89004552e-02  7.33829066e-02\n",
            "  1.11306369e-01  8.14606845e-02  3.69490832e-02 -3.02295368e-02\n",
            " -5.19268103e-02 -1.96103621e-02 -3.66857499e-02  4.58646864e-02\n",
            "  2.43729949e-02 -8.82684365e-02 -4.21835063e-03  1.46632707e-02\n",
            " -5.63134206e-03 -2.62033455e-02 -3.98395807e-02  9.34956409e-03\n",
            " -2.98012309e-02  8.95939618e-02 -1.02689721e-01  8.56672451e-02\n",
            "  2.60421466e-02 -8.02441686e-02 -6.02043159e-02  4.40684007e-03\n",
            "  6.94212876e-03 -2.52083782e-02  5.34914713e-03  4.13522385e-02\n",
            "  5.52306548e-02  3.26387733e-02 -2.07016654e-02 -4.18403633e-02\n",
            " -1.73458662e-02 -7.70810023e-02 -2.10295673e-02  5.93840815e-02\n",
            " -7.63842044e-03  2.23269649e-02  6.95344582e-02  6.15306292e-03\n",
            " -9.45978239e-02  8.71996116e-03  5.84524386e-02  3.95790227e-02\n",
            " -4.23531421e-02 -3.76921892e-02  6.72587380e-02  1.19581204e-02\n",
            " -8.99122804e-02 -5.36756665e-02 -2.55893654e-04  5.09585738e-02\n",
            "  1.87584888e-02 -4.20354754e-02  1.21707711e-02  5.98366782e-02\n",
            " -5.19551449e-02 -6.32304475e-02  7.03523681e-02  5.05263694e-02\n",
            " -6.24643127e-03  2.00878214e-02 -1.59413293e-02 -6.26488170e-03\n",
            " -1.71760898e-02  3.89749780e-02 -8.27542469e-02  1.70553438e-02\n",
            " -2.07339078e-02  8.86931866e-02 -3.47404107e-02 -7.23599596e-03\n",
            " -5.10327555e-02  1.83434726e-03  8.91936496e-02  3.90925743e-02\n",
            "  2.04985049e-02 -7.54578635e-02 -4.18704934e-02  4.91263764e-03\n",
            " -1.23831285e-02 -6.60660267e-02  1.91449374e-02 -5.15648979e-04\n",
            " -8.65053106e-03 -3.73536609e-02  4.73071635e-02  7.51165021e-03\n",
            "  2.65870560e-02  5.70403710e-02 -6.77037537e-02  3.17052379e-03\n",
            " -5.80019616e-02 -1.66853648e-02  5.80199156e-03  8.83485318e-33\n",
            "  2.26337276e-02  7.81908855e-02  1.05545871e-01  4.41632271e-02\n",
            "  2.50013117e-02 -5.62099088e-03 -6.41350523e-02  3.95734198e-02\n",
            " -6.97125942e-02  8.44326615e-02 -4.41936143e-02 -1.56924163e-03\n",
            " -1.09387841e-02 -3.20432410e-02 -2.27201544e-02 -1.85588957e-03\n",
            " -4.61117458e-03  3.57496515e-02 -7.77197778e-02  1.44803142e-02\n",
            "  4.78866883e-02 -8.05772617e-02  1.25310579e-02  8.22392181e-02\n",
            "  2.61932388e-02  7.36031979e-02 -2.28989180e-02  1.69889685e-02\n",
            "  1.05628379e-01  3.47595848e-02  3.80312502e-02 -9.56351534e-02\n",
            " -6.40516169e-03 -6.19928017e-02 -3.27759311e-02  4.64203246e-02\n",
            " -2.63233446e-02 -2.50555668e-02 -4.14324701e-02 -3.90226133e-02\n",
            " -3.15561481e-02  7.84075186e-02 -4.33076546e-02 -1.82004906e-02\n",
            " -2.71390416e-02 -2.47951932e-02  1.18126199e-01  2.60005556e-02\n",
            "  5.66788614e-02  9.17177275e-02 -8.82871971e-02 -3.61031257e-02\n",
            " -5.24935909e-02  1.40821571e-02 -3.68753858e-02 -2.83937287e-02\n",
            " -4.49475460e-03  9.88532230e-02  2.01696176e-02 -1.11358762e-01\n",
            "  1.04962680e-02 -6.66825324e-02 -9.70917270e-02 -7.84190074e-02\n",
            " -4.75304201e-03  3.01243514e-02 -6.66340766e-03 -1.11036859e-01\n",
            "  3.50338593e-02 -3.05646285e-02  1.61482822e-02  5.25492169e-02\n",
            "  7.73936091e-03  3.02317496e-02 -1.15192449e-02  2.87447311e-02\n",
            " -4.18772399e-02 -1.39732275e-03  4.31008898e-02 -3.25883031e-02\n",
            " -2.34943777e-02 -4.66822088e-03 -7.55020827e-02  2.77432427e-03\n",
            "  4.26023193e-02  2.39177365e-02  8.95428210e-02 -6.33986592e-02\n",
            " -8.27321634e-02  4.88694608e-02 -1.41466092e-02 -6.68692142e-02\n",
            "  4.60618101e-02 -1.46028362e-02 -1.05152307e-02 -9.31574277e-33\n",
            " -7.72537515e-02  4.50690603e-03 -6.96562156e-02 -2.14641485e-02\n",
            "  5.07544503e-02  2.78516207e-02  3.93749177e-02  4.38230410e-02\n",
            " -5.32395905e-03  1.89098355e-03  6.88467398e-02 -1.37840547e-02\n",
            " -1.57395459e-03 -7.24661211e-03  9.00702178e-03  1.26706138e-02\n",
            "  4.52999547e-02  2.53369827e-02 -2.12545060e-02  2.55213566e-02\n",
            "  4.76636328e-02  6.44984692e-02  8.21073353e-03  8.54949206e-02\n",
            " -5.27098514e-02  8.85845646e-02  3.79756512e-03 -7.94383287e-02\n",
            " -2.25257198e-03 -2.54751798e-02  5.05985059e-02 -5.64764924e-02\n",
            " -6.28005564e-02  1.07502826e-01 -1.07294604e-01 -7.63288960e-02\n",
            "  3.19727957e-02  9.50646102e-02 -1.02186706e-02  6.82274252e-02\n",
            "  1.60655957e-02 -3.16475779e-02 -3.61136347e-02  3.15175056e-02\n",
            "  1.69259124e-02 -3.71863171e-02  8.24573338e-02 -1.01268500e-01\n",
            "  9.59160365e-03 -1.36649692e-02 -7.64784366e-02  4.69405726e-02\n",
            " -1.23003246e-02  7.85336047e-02 -1.19262170e-02  5.44100767e-03\n",
            "  2.65860353e-02 -3.88712622e-03 -5.30030578e-02 -6.45561889e-02\n",
            "  3.16230999e-03  1.32104620e-01 -3.32184397e-02  4.68294472e-02\n",
            "  1.06271528e-01 -8.36438537e-02 -7.07416609e-02 -5.62726054e-03\n",
            " -4.57510017e-02 -5.26965223e-02 -2.37413179e-02 -5.69392601e-03\n",
            "  2.64772419e-02  3.65926921e-02 -4.74976236e-03 -1.91938300e-02\n",
            " -6.22763820e-02  9.26149171e-03 -6.07689396e-02  5.37816575e-03\n",
            " -2.40335632e-02 -5.37356995e-02  4.62990515e-02 -7.09518418e-03\n",
            "  1.75270997e-02 -7.92253315e-02  1.68828651e-01  5.41310981e-02\n",
            "  6.96070269e-02  2.29903962e-02 -3.33417654e-02 -2.77968459e-02\n",
            " -6.24581911e-02 -5.62166646e-02 -3.29887941e-02 -4.93672587e-08\n",
            " -6.55014291e-02  2.36587711e-02 -6.36443049e-02  3.26454709e-03\n",
            " -3.66402902e-02 -4.24201898e-02 -4.26302440e-02  7.37326816e-02\n",
            " -4.69802059e-02  6.00187965e-02  3.39794569e-02  2.51445528e-02\n",
            " -8.89682323e-02 -1.13660216e-01  7.20954090e-02 -5.06499931e-02\n",
            "  2.90974677e-02 -9.09960177e-03  2.23527011e-02  2.67812423e-02\n",
            "  2.01357752e-02  5.14982678e-02 -4.04034257e-02 -2.42898166e-02\n",
            " -4.81018610e-02 -1.58936977e-02  4.98792045e-02 -3.31357978e-02\n",
            "  6.39662072e-02 -6.54003248e-02  8.20828527e-02  4.58390117e-02\n",
            "  1.04721434e-01 -2.29372848e-02 -3.43593918e-02  3.11439298e-02\n",
            "  1.36243924e-02  5.50851412e-02  1.33242300e-02  8.01988319e-03\n",
            "  6.46904018e-03  2.14199647e-02 -1.05307862e-01 -1.17134042e-02\n",
            " -2.15244424e-02  6.64585754e-02 -4.65223268e-02 -3.00111081e-02\n",
            "  5.59370555e-02 -6.85360134e-02 -3.76032740e-02  1.09482883e-02\n",
            " -1.46466063e-03  1.05805201e-02 -1.30494852e-02  2.50715278e-02\n",
            "  2.93826256e-02  4.23665605e-02  5.30191064e-02  8.29906389e-03\n",
            "  9.95117947e-02 -4.19790111e-02 -6.47736117e-02  4.56514731e-02]\n"
          ]
        }
      ]
    },
    {
      "cell_type": "code",
      "source": [
        "# Check the lengths of the chunks and embeddings\n",
        "num_chunks = len(chunks)\n",
        "print(f\"Number of chunks: {num_chunks}\")\n",
        "print(f\"Number of embeddings: {len(embeddings)}\")"
      ],
      "metadata": {
        "colab": {
          "base_uri": "https://localhost:8080/"
        },
        "id": "jBnnmDZ_rKqI",
        "outputId": "dd646cfd-9741-4528-e5a9-0299293e5461"
      },
      "execution_count": 44,
      "outputs": [
        {
          "output_type": "stream",
          "name": "stdout",
          "text": [
            "Number of chunks: 301\n",
            "Number of embeddings: 301\n"
          ]
        }
      ]
    },
    {
      "cell_type": "code",
      "source": [
        "# Define the duplication size\n",
        "dsize = 1  # You can set this to any value between 1 and n as per your experimentation requirements\n",
        "total=dsize * len(chunks)\n",
        "print(\"Total size\", total)\n",
        "# Initialize new lists for duplicated chunks and embeddings\n",
        "duplicated_chunks = []\n",
        "duplicated_embeddings = []\n",
        "\n",
        "# Loop through the original lists and duplicate each entry\n",
        "for i in range(len(chunks)):\n",
        "    for _ in range(dsize):\n",
        "        duplicated_chunks.append(chunks[i])\n",
        "        duplicated_embeddings.append(embeddings[i])\n",
        "\n",
        "# Checking the lengths of the duplicated lists\n",
        "print(f\"Number of duplicated chunks: {len(duplicated_chunks)}\")\n",
        "print(f\"Number of duplicated embeddings: {len(duplicated_embeddings)}\")"
      ],
      "metadata": {
        "colab": {
          "base_uri": "https://localhost:8080/"
        },
        "id": "c0_raFI2rNgP",
        "outputId": "69d8f8cc-8cfb-4aab-b1c8-3078fbc8585d"
      },
      "execution_count": 45,
      "outputs": [
        {
          "output_type": "stream",
          "name": "stdout",
          "text": [
            "Total size 301\n",
            "Number of duplicated chunks: 301\n",
            "Number of duplicated embeddings: 301\n"
          ]
        }
      ]
    },
    {
      "cell_type": "markdown",
      "source": [
        "## The Pinecone index"
      ],
      "metadata": {
        "id": "9F6K4MU3sE7T"
      }
    },
    {
      "cell_type": "code",
      "source": [
        "import os\n",
        "from pinecone import Pinecone, ServerlessSpec\n",
        "\n",
        "# initialize connection to pinecone (get API key at app.pinecone.io)\n",
        "api_key = os.environ.get('PINECONE_API_KEY') or 'PINECONE_API_KEY'\n",
        "\n",
        "from pinecone import Pinecone, ServerlessSpec\n",
        "pc = Pinecone(api_key=PINECONE_API_KEY)"
      ],
      "metadata": {
        "id": "Cb5r_-V7r-wi"
      },
      "execution_count": 46,
      "outputs": []
    },
    {
      "cell_type": "code",
      "source": [
        "from pinecone import ServerlessSpec\n",
        "\n",
        "index_name = 'bank-index-50000'\n",
        "cloud = os.environ.get('PINECONE_CLOUD') or 'aws'\n",
        "region = os.environ.get('PINECONE_REGION') or 'us-east-1'\n",
        "\n",
        "spec = ServerlessSpec(cloud=cloud, region=region)"
      ],
      "metadata": {
        "id": "qSwTmHnhsH2e"
      },
      "execution_count": 47,
      "outputs": []
    },
    {
      "cell_type": "code",
      "source": [
        "import time\n",
        "import pinecone\n",
        "# check if index already exists (it shouldn't if this is first time)\n",
        "if index_name not in pc.list_indexes().names():\n",
        "    # if does not exist, create index\n",
        "    pc.create_index(\n",
        "        index_name,\n",
        "        dimension=384,  # dimension of the embedding model\n",
        "        metric='cosine',\n",
        "        spec=spec\n",
        "    )\n",
        "    # wait for index to be initialized\n",
        "    time.sleep(1)\n",
        "\n",
        "# connect to index\n",
        "index = pc.Index(index_name)\n",
        "# view index stats\n",
        "index.describe_index_stats()"
      ],
      "metadata": {
        "colab": {
          "base_uri": "https://localhost:8080/"
        },
        "id": "9nCU6VXusMKk",
        "outputId": "055a3928-b40b-4eb3-9efd-abcf775c6878"
      },
      "execution_count": 48,
      "outputs": [
        {
          "output_type": "execute_result",
          "data": {
            "text/plain": [
              "{'dimension': 384,\n",
              " 'index_fullness': 0.0,\n",
              " 'namespaces': {},\n",
              " 'total_vector_count': 0}"
            ]
          },
          "metadata": {},
          "execution_count": 48
        }
      ]
    },
    {
      "cell_type": "markdown",
      "source": [
        "## Upserting"
      ],
      "metadata": {
        "id": "yX500xFssTRI"
      }
    },
    {
      "cell_type": "code",
      "source": [
        "# upsert function\n",
        "def upsert_to_pinecone(data, batch_size):\n",
        "    for i in range(0, len(data), batch_size):\n",
        "        batch = data[i:i+batch_size]\n",
        "        index.upsert(vectors=batch)\n",
        "        #time.sleep(1)  # Optional: add delay to avoid rate limits"
      ],
      "metadata": {
        "id": "tFPFYybAsT3o"
      },
      "execution_count": 49,
      "outputs": []
    },
    {
      "cell_type": "code",
      "source": [
        "import pinecone\n",
        "import time\n",
        "import sys\n",
        "\n",
        "start_time = time.time()  # Start timing before the request\n",
        "\n",
        "# Function to calculate the size of a batch\n",
        "def get_batch_size(data, limit=600000):  # limit set to 4MB to be safe\n",
        "    total_size = 0\n",
        "    batch_size = 0\n",
        "    for item in data:\n",
        "        item_size = sum([sys.getsizeof(v) for v in item.values()])\n",
        "        if total_size + item_size > limit:\n",
        "            break\n",
        "        total_size += item_size\n",
        "        batch_size += 1\n",
        "    return batch_size\n",
        "\n",
        "def batch_upsert(data):\n",
        "    total = len(data)\n",
        "    i = 0\n",
        "    while i < total:\n",
        "        batch_size = get_batch_size(data[i:])\n",
        "        batch = data[i:i + batch_size]\n",
        "        if batch:\n",
        "            upsert_to_pinecone(batch,batch_size)\n",
        "            i += batch_size\n",
        "            print(f\"Upserted {i}/{total} items...\")  # Display current progress\n",
        "        else:\n",
        "            break\n",
        "    print(\"Upsert complete.\")\n",
        "\n",
        "# Generate IDs for each data item\n",
        "ids = [str(i) for i in range(1, len(duplicated_chunks) + 1)]\n",
        "\n",
        "# Prepare data for upsert\n",
        "data_for_upsert = [\n",
        "    {\"id\": str(id), \"values\": emb, \"metadata\": {\"text\": chunk}}\n",
        "    for id, (chunk, emb) in zip(ids, zip(duplicated_chunks, duplicated_embeddings))\n",
        "]\n",
        "\n",
        "# Upsert data in batches\n",
        "batch_upsert(data_for_upsert)\n",
        "\n",
        "response_time = time.time() - start_time  # Measure response time\n",
        "print(f\"Upsertion response time: {response_time:.2f} seconds\")  # Print response time"
      ],
      "metadata": {
        "colab": {
          "base_uri": "https://localhost:8080/"
        },
        "id": "3aOFlaFbsVYb",
        "outputId": "fef4f92f-c945-492d-9057-133e89d744b7"
      },
      "execution_count": 50,
      "outputs": [
        {
          "output_type": "stream",
          "name": "stdout",
          "text": [
            "Upserted 301/301 items...\n",
            "Upsert complete.\n",
            "Upsertion response time: 3.10 seconds\n"
          ]
        }
      ]
    },
    {
      "cell_type": "code",
      "source": [
        "print(\"Index stats\")\n",
        "print(index.describe_index_stats(include_metadata=True))"
      ],
      "metadata": {
        "colab": {
          "base_uri": "https://localhost:8080/"
        },
        "id": "cutLYd8OsVaz",
        "outputId": "2bddfdd6-dd0d-4531-d438-16c560cc30e0"
      },
      "execution_count": 51,
      "outputs": [
        {
          "output_type": "stream",
          "name": "stdout",
          "text": [
            "Index stats\n",
            "{'dimension': 384,\n",
            " 'index_fullness': 0.0,\n",
            " 'namespaces': {},\n",
            " 'total_vector_count': 0}\n"
          ]
        }
      ]
    },
    {
      "cell_type": "markdown",
      "source": [
        "## Querying the Index"
      ],
      "metadata": {
        "id": "77f7LFhQsbOI"
      }
    },
    {
      "cell_type": "code",
      "source": [
        "# Print the query results along with metadata\n",
        "def display_results(query_results):\n",
        "  for match in query_results['matches']:\n",
        "    print(f\"ID: {match['id']}, Score: {match['score']}\")\n",
        "    if 'metadata' in match and 'text' in match['metadata']:\n",
        "        print(f\"Text: {match['metadata']['text']}\")\n",
        "    else:\n",
        "        print(\"No metadata available.\")"
      ],
      "metadata": {
        "id": "rUZzBAgzsVec"
      },
      "execution_count": 52,
      "outputs": []
    },
    {
      "cell_type": "code",
      "source": [
        "def get_embedding(text, model=model_sentence):\n",
        "    text = text.replace(\"\\n\", \" \")\n",
        "    embedding = model.encode(text,ignore_errors=True)\n",
        "    return embedding"
      ],
      "metadata": {
        "id": "mB63Ge12sVl8"
      },
      "execution_count": 53,
      "outputs": []
    },
    {
      "cell_type": "code",
      "source": [
        "print(\"Querying vector store\")\n",
        "start_time = time.time()  # Start timing before the request\n",
        "query_text = \"Customer Hill CreditScore 608Age 41 Tenure 1Balance 83807.86NumOfProducts 1HasCrCard 0IsActiveMember 1EstimatedSalary 112542.58 Exited 0Complain 1Satisfaction Score 3Card Type DIAMONDPoint Earned 456\"\n",
        "query_embedding = get_embedding(query_text,model=model_sentence).tolist()\n",
        "query_results = index.query(vector=query_embedding, top_k=1, include_metadata=True)  # Request metadata\n",
        "#print(\"raw query_results\",query_results)\n",
        "print(\"processed query results\")\n",
        "display_results(query_results) #display results\n",
        "response_time = time.time() - start_time              # Measure response time\n",
        "print(f\"Querying response time: {response_time:.2f} seconds\")  # Print response time"
      ],
      "metadata": {
        "colab": {
          "base_uri": "https://localhost:8080/"
        },
        "id": "4W_ZubXasVpV",
        "outputId": "970e4e72-e61a-4785-a7a2-2462c8ebced3"
      },
      "execution_count": 62,
      "outputs": [
        {
          "output_type": "stream",
          "name": "stdout",
          "text": [
            "Querying vector store\n",
            "processed query results\n",
            "ID: 2, Score: 0.714985132\n",
            "Text: RowNumber: 2 CustomerId: 15647311 Surname: Hill CreditScore: 608 Geography: Spain Gender: Female Age: 41 Tenure: 1 Balance: 83807.86 NumOfProducts: 1 HasCrCard: 0 IsActiveMember: 1 EstimatedSalary: 112542.58 Exited: 0 Complain: 1 Satisfaction Score: 3 Card Type: DIAMOND Point Earned: 456\n",
            "Querying response time: 1.00 seconds\n"
          ]
        }
      ]
    },
    {
      "cell_type": "code",
      "source": [
        "data1"
      ],
      "metadata": {
        "colab": {
          "base_uri": "https://localhost:8080/",
          "height": 461
        },
        "id": "Rav7Q86ZwDFZ",
        "outputId": "6b1e9a41-4032-476b-d837-246a248e662c"
      },
      "execution_count": 63,
      "outputs": [
        {
          "output_type": "execute_result",
          "data": {
            "text/plain": [
              "     RowNumber  CustomerId   Surname  CreditScore Geography  Gender  Age  \\\n",
              "0            1    15634602  Hargrave          619    France  Female   42   \n",
              "1            2    15647311      Hill          608     Spain  Female   41   \n",
              "2            3    15619304      Onio          502    France  Female   42   \n",
              "3            4    15701354      Boni          699    France  Female   39   \n",
              "4            5    15737888  Mitchell          850     Spain  Female   43   \n",
              "..         ...         ...       ...          ...       ...     ...  ...   \n",
              "296        297    15774510      Tien          714    France  Female   31   \n",
              "297        298    15684173     Chang          687     Spain  Female   44   \n",
              "298        299    15650068   Johnson          511    France    Male   58   \n",
              "299        300    15811490    French          627    France    Male   33   \n",
              "300        301    15803976   Efremov          694    France  Female   31   \n",
              "\n",
              "     Tenure    Balance  NumOfProducts  HasCrCard  IsActiveMember  \\\n",
              "0         2       0.00              1          1               1   \n",
              "1         1   83807.86              1          0               1   \n",
              "2         8  159660.80              3          1               0   \n",
              "3         1       0.00              2          0               0   \n",
              "4         2  125510.82              1          1               1   \n",
              "..      ...        ...            ...        ...             ...   \n",
              "296       4  125169.26              1          1               1   \n",
              "297       7       0.00              3          1               0   \n",
              "298       0  149117.31              1          1               1   \n",
              "299       5       0.00              2          1               1   \n",
              "300      10       0.00              2          1               0   \n",
              "\n",
              "     EstimatedSalary  Exited  Complain  Satisfaction Score Card Type  \\\n",
              "0          101348.88       1         1                   2   DIAMOND   \n",
              "1          112542.58       0         1                   3   DIAMOND   \n",
              "2          113931.57       1         1                   3   DIAMOND   \n",
              "3           93826.63       0         0                   5      GOLD   \n",
              "4           79084.10       0         0                   5      GOLD   \n",
              "..               ...     ...       ...                 ...       ...   \n",
              "296        106636.89       0         0                   3  PLATINUM   \n",
              "297        155853.52       1         1                   2    SILVER   \n",
              "298        162599.51       0         0                   1      GOLD   \n",
              "299        103737.82       0         0                   4  PLATINUM   \n",
              "300        160990.27       0         0                   3    SILVER   \n",
              "\n",
              "     Point Earned  \n",
              "0             464  \n",
              "1             456  \n",
              "2             377  \n",
              "3             350  \n",
              "4             425  \n",
              "..            ...  \n",
              "296           669  \n",
              "297           336  \n",
              "298           517  \n",
              "299           499  \n",
              "300           673  \n",
              "\n",
              "[301 rows x 18 columns]"
            ],
            "text/html": [
              "\n",
              "  <div id=\"df-570776a4-6149-4500-b038-9e2846cffc05\" class=\"colab-df-container\">\n",
              "    <div>\n",
              "<style scoped>\n",
              "    .dataframe tbody tr th:only-of-type {\n",
              "        vertical-align: middle;\n",
              "    }\n",
              "\n",
              "    .dataframe tbody tr th {\n",
              "        vertical-align: top;\n",
              "    }\n",
              "\n",
              "    .dataframe thead th {\n",
              "        text-align: right;\n",
              "    }\n",
              "</style>\n",
              "<table border=\"1\" class=\"dataframe\">\n",
              "  <thead>\n",
              "    <tr style=\"text-align: right;\">\n",
              "      <th></th>\n",
              "      <th>RowNumber</th>\n",
              "      <th>CustomerId</th>\n",
              "      <th>Surname</th>\n",
              "      <th>CreditScore</th>\n",
              "      <th>Geography</th>\n",
              "      <th>Gender</th>\n",
              "      <th>Age</th>\n",
              "      <th>Tenure</th>\n",
              "      <th>Balance</th>\n",
              "      <th>NumOfProducts</th>\n",
              "      <th>HasCrCard</th>\n",
              "      <th>IsActiveMember</th>\n",
              "      <th>EstimatedSalary</th>\n",
              "      <th>Exited</th>\n",
              "      <th>Complain</th>\n",
              "      <th>Satisfaction Score</th>\n",
              "      <th>Card Type</th>\n",
              "      <th>Point Earned</th>\n",
              "    </tr>\n",
              "  </thead>\n",
              "  <tbody>\n",
              "    <tr>\n",
              "      <th>0</th>\n",
              "      <td>1</td>\n",
              "      <td>15634602</td>\n",
              "      <td>Hargrave</td>\n",
              "      <td>619</td>\n",
              "      <td>France</td>\n",
              "      <td>Female</td>\n",
              "      <td>42</td>\n",
              "      <td>2</td>\n",
              "      <td>0.00</td>\n",
              "      <td>1</td>\n",
              "      <td>1</td>\n",
              "      <td>1</td>\n",
              "      <td>101348.88</td>\n",
              "      <td>1</td>\n",
              "      <td>1</td>\n",
              "      <td>2</td>\n",
              "      <td>DIAMOND</td>\n",
              "      <td>464</td>\n",
              "    </tr>\n",
              "    <tr>\n",
              "      <th>1</th>\n",
              "      <td>2</td>\n",
              "      <td>15647311</td>\n",
              "      <td>Hill</td>\n",
              "      <td>608</td>\n",
              "      <td>Spain</td>\n",
              "      <td>Female</td>\n",
              "      <td>41</td>\n",
              "      <td>1</td>\n",
              "      <td>83807.86</td>\n",
              "      <td>1</td>\n",
              "      <td>0</td>\n",
              "      <td>1</td>\n",
              "      <td>112542.58</td>\n",
              "      <td>0</td>\n",
              "      <td>1</td>\n",
              "      <td>3</td>\n",
              "      <td>DIAMOND</td>\n",
              "      <td>456</td>\n",
              "    </tr>\n",
              "    <tr>\n",
              "      <th>2</th>\n",
              "      <td>3</td>\n",
              "      <td>15619304</td>\n",
              "      <td>Onio</td>\n",
              "      <td>502</td>\n",
              "      <td>France</td>\n",
              "      <td>Female</td>\n",
              "      <td>42</td>\n",
              "      <td>8</td>\n",
              "      <td>159660.80</td>\n",
              "      <td>3</td>\n",
              "      <td>1</td>\n",
              "      <td>0</td>\n",
              "      <td>113931.57</td>\n",
              "      <td>1</td>\n",
              "      <td>1</td>\n",
              "      <td>3</td>\n",
              "      <td>DIAMOND</td>\n",
              "      <td>377</td>\n",
              "    </tr>\n",
              "    <tr>\n",
              "      <th>3</th>\n",
              "      <td>4</td>\n",
              "      <td>15701354</td>\n",
              "      <td>Boni</td>\n",
              "      <td>699</td>\n",
              "      <td>France</td>\n",
              "      <td>Female</td>\n",
              "      <td>39</td>\n",
              "      <td>1</td>\n",
              "      <td>0.00</td>\n",
              "      <td>2</td>\n",
              "      <td>0</td>\n",
              "      <td>0</td>\n",
              "      <td>93826.63</td>\n",
              "      <td>0</td>\n",
              "      <td>0</td>\n",
              "      <td>5</td>\n",
              "      <td>GOLD</td>\n",
              "      <td>350</td>\n",
              "    </tr>\n",
              "    <tr>\n",
              "      <th>4</th>\n",
              "      <td>5</td>\n",
              "      <td>15737888</td>\n",
              "      <td>Mitchell</td>\n",
              "      <td>850</td>\n",
              "      <td>Spain</td>\n",
              "      <td>Female</td>\n",
              "      <td>43</td>\n",
              "      <td>2</td>\n",
              "      <td>125510.82</td>\n",
              "      <td>1</td>\n",
              "      <td>1</td>\n",
              "      <td>1</td>\n",
              "      <td>79084.10</td>\n",
              "      <td>0</td>\n",
              "      <td>0</td>\n",
              "      <td>5</td>\n",
              "      <td>GOLD</td>\n",
              "      <td>425</td>\n",
              "    </tr>\n",
              "    <tr>\n",
              "      <th>...</th>\n",
              "      <td>...</td>\n",
              "      <td>...</td>\n",
              "      <td>...</td>\n",
              "      <td>...</td>\n",
              "      <td>...</td>\n",
              "      <td>...</td>\n",
              "      <td>...</td>\n",
              "      <td>...</td>\n",
              "      <td>...</td>\n",
              "      <td>...</td>\n",
              "      <td>...</td>\n",
              "      <td>...</td>\n",
              "      <td>...</td>\n",
              "      <td>...</td>\n",
              "      <td>...</td>\n",
              "      <td>...</td>\n",
              "      <td>...</td>\n",
              "      <td>...</td>\n",
              "    </tr>\n",
              "    <tr>\n",
              "      <th>296</th>\n",
              "      <td>297</td>\n",
              "      <td>15774510</td>\n",
              "      <td>Tien</td>\n",
              "      <td>714</td>\n",
              "      <td>France</td>\n",
              "      <td>Female</td>\n",
              "      <td>31</td>\n",
              "      <td>4</td>\n",
              "      <td>125169.26</td>\n",
              "      <td>1</td>\n",
              "      <td>1</td>\n",
              "      <td>1</td>\n",
              "      <td>106636.89</td>\n",
              "      <td>0</td>\n",
              "      <td>0</td>\n",
              "      <td>3</td>\n",
              "      <td>PLATINUM</td>\n",
              "      <td>669</td>\n",
              "    </tr>\n",
              "    <tr>\n",
              "      <th>297</th>\n",
              "      <td>298</td>\n",
              "      <td>15684173</td>\n",
              "      <td>Chang</td>\n",
              "      <td>687</td>\n",
              "      <td>Spain</td>\n",
              "      <td>Female</td>\n",
              "      <td>44</td>\n",
              "      <td>7</td>\n",
              "      <td>0.00</td>\n",
              "      <td>3</td>\n",
              "      <td>1</td>\n",
              "      <td>0</td>\n",
              "      <td>155853.52</td>\n",
              "      <td>1</td>\n",
              "      <td>1</td>\n",
              "      <td>2</td>\n",
              "      <td>SILVER</td>\n",
              "      <td>336</td>\n",
              "    </tr>\n",
              "    <tr>\n",
              "      <th>298</th>\n",
              "      <td>299</td>\n",
              "      <td>15650068</td>\n",
              "      <td>Johnson</td>\n",
              "      <td>511</td>\n",
              "      <td>France</td>\n",
              "      <td>Male</td>\n",
              "      <td>58</td>\n",
              "      <td>0</td>\n",
              "      <td>149117.31</td>\n",
              "      <td>1</td>\n",
              "      <td>1</td>\n",
              "      <td>1</td>\n",
              "      <td>162599.51</td>\n",
              "      <td>0</td>\n",
              "      <td>0</td>\n",
              "      <td>1</td>\n",
              "      <td>GOLD</td>\n",
              "      <td>517</td>\n",
              "    </tr>\n",
              "    <tr>\n",
              "      <th>299</th>\n",
              "      <td>300</td>\n",
              "      <td>15811490</td>\n",
              "      <td>French</td>\n",
              "      <td>627</td>\n",
              "      <td>France</td>\n",
              "      <td>Male</td>\n",
              "      <td>33</td>\n",
              "      <td>5</td>\n",
              "      <td>0.00</td>\n",
              "      <td>2</td>\n",
              "      <td>1</td>\n",
              "      <td>1</td>\n",
              "      <td>103737.82</td>\n",
              "      <td>0</td>\n",
              "      <td>0</td>\n",
              "      <td>4</td>\n",
              "      <td>PLATINUM</td>\n",
              "      <td>499</td>\n",
              "    </tr>\n",
              "    <tr>\n",
              "      <th>300</th>\n",
              "      <td>301</td>\n",
              "      <td>15803976</td>\n",
              "      <td>Efremov</td>\n",
              "      <td>694</td>\n",
              "      <td>France</td>\n",
              "      <td>Female</td>\n",
              "      <td>31</td>\n",
              "      <td>10</td>\n",
              "      <td>0.00</td>\n",
              "      <td>2</td>\n",
              "      <td>1</td>\n",
              "      <td>0</td>\n",
              "      <td>160990.27</td>\n",
              "      <td>0</td>\n",
              "      <td>0</td>\n",
              "      <td>3</td>\n",
              "      <td>SILVER</td>\n",
              "      <td>673</td>\n",
              "    </tr>\n",
              "  </tbody>\n",
              "</table>\n",
              "<p>301 rows × 18 columns</p>\n",
              "</div>\n",
              "    <div class=\"colab-df-buttons\">\n",
              "\n",
              "  <div class=\"colab-df-container\">\n",
              "    <button class=\"colab-df-convert\" onclick=\"convertToInteractive('df-570776a4-6149-4500-b038-9e2846cffc05')\"\n",
              "            title=\"Convert this dataframe to an interactive table.\"\n",
              "            style=\"display:none;\">\n",
              "\n",
              "  <svg xmlns=\"http://www.w3.org/2000/svg\" height=\"24px\" viewBox=\"0 -960 960 960\">\n",
              "    <path d=\"M120-120v-720h720v720H120Zm60-500h600v-160H180v160Zm220 220h160v-160H400v160Zm0 220h160v-160H400v160ZM180-400h160v-160H180v160Zm440 0h160v-160H620v160ZM180-180h160v-160H180v160Zm440 0h160v-160H620v160Z\"/>\n",
              "  </svg>\n",
              "    </button>\n",
              "\n",
              "  <style>\n",
              "    .colab-df-container {\n",
              "      display:flex;\n",
              "      gap: 12px;\n",
              "    }\n",
              "\n",
              "    .colab-df-convert {\n",
              "      background-color: #E8F0FE;\n",
              "      border: none;\n",
              "      border-radius: 50%;\n",
              "      cursor: pointer;\n",
              "      display: none;\n",
              "      fill: #1967D2;\n",
              "      height: 32px;\n",
              "      padding: 0 0 0 0;\n",
              "      width: 32px;\n",
              "    }\n",
              "\n",
              "    .colab-df-convert:hover {\n",
              "      background-color: #E2EBFA;\n",
              "      box-shadow: 0px 1px 2px rgba(60, 64, 67, 0.3), 0px 1px 3px 1px rgba(60, 64, 67, 0.15);\n",
              "      fill: #174EA6;\n",
              "    }\n",
              "\n",
              "    .colab-df-buttons div {\n",
              "      margin-bottom: 4px;\n",
              "    }\n",
              "\n",
              "    [theme=dark] .colab-df-convert {\n",
              "      background-color: #3B4455;\n",
              "      fill: #D2E3FC;\n",
              "    }\n",
              "\n",
              "    [theme=dark] .colab-df-convert:hover {\n",
              "      background-color: #434B5C;\n",
              "      box-shadow: 0px 1px 3px 1px rgba(0, 0, 0, 0.15);\n",
              "      filter: drop-shadow(0px 1px 2px rgba(0, 0, 0, 0.3));\n",
              "      fill: #FFFFFF;\n",
              "    }\n",
              "  </style>\n",
              "\n",
              "    <script>\n",
              "      const buttonEl =\n",
              "        document.querySelector('#df-570776a4-6149-4500-b038-9e2846cffc05 button.colab-df-convert');\n",
              "      buttonEl.style.display =\n",
              "        google.colab.kernel.accessAllowed ? 'block' : 'none';\n",
              "\n",
              "      async function convertToInteractive(key) {\n",
              "        const element = document.querySelector('#df-570776a4-6149-4500-b038-9e2846cffc05');\n",
              "        const dataTable =\n",
              "          await google.colab.kernel.invokeFunction('convertToInteractive',\n",
              "                                                    [key], {});\n",
              "        if (!dataTable) return;\n",
              "\n",
              "        const docLinkHtml = 'Like what you see? Visit the ' +\n",
              "          '<a target=\"_blank\" href=https://colab.research.google.com/notebooks/data_table.ipynb>data table notebook</a>'\n",
              "          + ' to learn more about interactive tables.';\n",
              "        element.innerHTML = '';\n",
              "        dataTable['output_type'] = 'display_data';\n",
              "        await google.colab.output.renderOutput(dataTable, element);\n",
              "        const docLink = document.createElement('div');\n",
              "        docLink.innerHTML = docLinkHtml;\n",
              "        element.appendChild(docLink);\n",
              "      }\n",
              "    </script>\n",
              "  </div>\n",
              "\n",
              "\n",
              "<div id=\"df-dfff2c94-19a7-405d-884b-3ab96e607ed3\">\n",
              "  <button class=\"colab-df-quickchart\" onclick=\"quickchart('df-dfff2c94-19a7-405d-884b-3ab96e607ed3')\"\n",
              "            title=\"Suggest charts\"\n",
              "            style=\"display:none;\">\n",
              "\n",
              "<svg xmlns=\"http://www.w3.org/2000/svg\" height=\"24px\"viewBox=\"0 0 24 24\"\n",
              "     width=\"24px\">\n",
              "    <g>\n",
              "        <path d=\"M19 3H5c-1.1 0-2 .9-2 2v14c0 1.1.9 2 2 2h14c1.1 0 2-.9 2-2V5c0-1.1-.9-2-2-2zM9 17H7v-7h2v7zm4 0h-2V7h2v10zm4 0h-2v-4h2v4z\"/>\n",
              "    </g>\n",
              "</svg>\n",
              "  </button>\n",
              "\n",
              "<style>\n",
              "  .colab-df-quickchart {\n",
              "      --bg-color: #E8F0FE;\n",
              "      --fill-color: #1967D2;\n",
              "      --hover-bg-color: #E2EBFA;\n",
              "      --hover-fill-color: #174EA6;\n",
              "      --disabled-fill-color: #AAA;\n",
              "      --disabled-bg-color: #DDD;\n",
              "  }\n",
              "\n",
              "  [theme=dark] .colab-df-quickchart {\n",
              "      --bg-color: #3B4455;\n",
              "      --fill-color: #D2E3FC;\n",
              "      --hover-bg-color: #434B5C;\n",
              "      --hover-fill-color: #FFFFFF;\n",
              "      --disabled-bg-color: #3B4455;\n",
              "      --disabled-fill-color: #666;\n",
              "  }\n",
              "\n",
              "  .colab-df-quickchart {\n",
              "    background-color: var(--bg-color);\n",
              "    border: none;\n",
              "    border-radius: 50%;\n",
              "    cursor: pointer;\n",
              "    display: none;\n",
              "    fill: var(--fill-color);\n",
              "    height: 32px;\n",
              "    padding: 0;\n",
              "    width: 32px;\n",
              "  }\n",
              "\n",
              "  .colab-df-quickchart:hover {\n",
              "    background-color: var(--hover-bg-color);\n",
              "    box-shadow: 0 1px 2px rgba(60, 64, 67, 0.3), 0 1px 3px 1px rgba(60, 64, 67, 0.15);\n",
              "    fill: var(--button-hover-fill-color);\n",
              "  }\n",
              "\n",
              "  .colab-df-quickchart-complete:disabled,\n",
              "  .colab-df-quickchart-complete:disabled:hover {\n",
              "    background-color: var(--disabled-bg-color);\n",
              "    fill: var(--disabled-fill-color);\n",
              "    box-shadow: none;\n",
              "  }\n",
              "\n",
              "  .colab-df-spinner {\n",
              "    border: 2px solid var(--fill-color);\n",
              "    border-color: transparent;\n",
              "    border-bottom-color: var(--fill-color);\n",
              "    animation:\n",
              "      spin 1s steps(1) infinite;\n",
              "  }\n",
              "\n",
              "  @keyframes spin {\n",
              "    0% {\n",
              "      border-color: transparent;\n",
              "      border-bottom-color: var(--fill-color);\n",
              "      border-left-color: var(--fill-color);\n",
              "    }\n",
              "    20% {\n",
              "      border-color: transparent;\n",
              "      border-left-color: var(--fill-color);\n",
              "      border-top-color: var(--fill-color);\n",
              "    }\n",
              "    30% {\n",
              "      border-color: transparent;\n",
              "      border-left-color: var(--fill-color);\n",
              "      border-top-color: var(--fill-color);\n",
              "      border-right-color: var(--fill-color);\n",
              "    }\n",
              "    40% {\n",
              "      border-color: transparent;\n",
              "      border-right-color: var(--fill-color);\n",
              "      border-top-color: var(--fill-color);\n",
              "    }\n",
              "    60% {\n",
              "      border-color: transparent;\n",
              "      border-right-color: var(--fill-color);\n",
              "    }\n",
              "    80% {\n",
              "      border-color: transparent;\n",
              "      border-right-color: var(--fill-color);\n",
              "      border-bottom-color: var(--fill-color);\n",
              "    }\n",
              "    90% {\n",
              "      border-color: transparent;\n",
              "      border-bottom-color: var(--fill-color);\n",
              "    }\n",
              "  }\n",
              "</style>\n",
              "\n",
              "  <script>\n",
              "    async function quickchart(key) {\n",
              "      const quickchartButtonEl =\n",
              "        document.querySelector('#' + key + ' button');\n",
              "      quickchartButtonEl.disabled = true;  // To prevent multiple clicks.\n",
              "      quickchartButtonEl.classList.add('colab-df-spinner');\n",
              "      try {\n",
              "        const charts = await google.colab.kernel.invokeFunction(\n",
              "            'suggestCharts', [key], {});\n",
              "      } catch (error) {\n",
              "        console.error('Error during call to suggestCharts:', error);\n",
              "      }\n",
              "      quickchartButtonEl.classList.remove('colab-df-spinner');\n",
              "      quickchartButtonEl.classList.add('colab-df-quickchart-complete');\n",
              "    }\n",
              "    (() => {\n",
              "      let quickchartButtonEl =\n",
              "        document.querySelector('#df-dfff2c94-19a7-405d-884b-3ab96e607ed3 button');\n",
              "      quickchartButtonEl.style.display =\n",
              "        google.colab.kernel.accessAllowed ? 'block' : 'none';\n",
              "    })();\n",
              "  </script>\n",
              "</div>\n",
              "\n",
              "  <div id=\"id_9d679b51-a648-413c-adf4-d2c055c2b89e\">\n",
              "    <style>\n",
              "      .colab-df-generate {\n",
              "        background-color: #E8F0FE;\n",
              "        border: none;\n",
              "        border-radius: 50%;\n",
              "        cursor: pointer;\n",
              "        display: none;\n",
              "        fill: #1967D2;\n",
              "        height: 32px;\n",
              "        padding: 0 0 0 0;\n",
              "        width: 32px;\n",
              "      }\n",
              "\n",
              "      .colab-df-generate:hover {\n",
              "        background-color: #E2EBFA;\n",
              "        box-shadow: 0px 1px 2px rgba(60, 64, 67, 0.3), 0px 1px 3px 1px rgba(60, 64, 67, 0.15);\n",
              "        fill: #174EA6;\n",
              "      }\n",
              "\n",
              "      [theme=dark] .colab-df-generate {\n",
              "        background-color: #3B4455;\n",
              "        fill: #D2E3FC;\n",
              "      }\n",
              "\n",
              "      [theme=dark] .colab-df-generate:hover {\n",
              "        background-color: #434B5C;\n",
              "        box-shadow: 0px 1px 3px 1px rgba(0, 0, 0, 0.15);\n",
              "        filter: drop-shadow(0px 1px 2px rgba(0, 0, 0, 0.3));\n",
              "        fill: #FFFFFF;\n",
              "      }\n",
              "    </style>\n",
              "    <button class=\"colab-df-generate\" onclick=\"generateWithVariable('data1')\"\n",
              "            title=\"Generate code using this dataframe.\"\n",
              "            style=\"display:none;\">\n",
              "\n",
              "  <svg xmlns=\"http://www.w3.org/2000/svg\" height=\"24px\"viewBox=\"0 0 24 24\"\n",
              "       width=\"24px\">\n",
              "    <path d=\"M7,19H8.4L18.45,9,17,7.55,7,17.6ZM5,21V16.75L18.45,3.32a2,2,0,0,1,2.83,0l1.4,1.43a1.91,1.91,0,0,1,.58,1.4,1.91,1.91,0,0,1-.58,1.4L9.25,21ZM18.45,9,17,7.55Zm-12,3A5.31,5.31,0,0,0,4.9,8.1,5.31,5.31,0,0,0,1,6.5,5.31,5.31,0,0,0,4.9,4.9,5.31,5.31,0,0,0,6.5,1,5.31,5.31,0,0,0,8.1,4.9,5.31,5.31,0,0,0,12,6.5,5.46,5.46,0,0,0,6.5,12Z\"/>\n",
              "  </svg>\n",
              "    </button>\n",
              "    <script>\n",
              "      (() => {\n",
              "      const buttonEl =\n",
              "        document.querySelector('#id_9d679b51-a648-413c-adf4-d2c055c2b89e button.colab-df-generate');\n",
              "      buttonEl.style.display =\n",
              "        google.colab.kernel.accessAllowed ? 'block' : 'none';\n",
              "\n",
              "      buttonEl.onclick = () => {\n",
              "        google.colab.notebook.generateWithVariable('data1');\n",
              "      }\n",
              "      })();\n",
              "    </script>\n",
              "  </div>\n",
              "\n",
              "    </div>\n",
              "  </div>\n"
            ],
            "application/vnd.google.colaboratory.intrinsic+json": {
              "type": "dataframe",
              "variable_name": "data1",
              "summary": "{\n  \"name\": \"data1\",\n  \"rows\": 301,\n  \"fields\": [\n    {\n      \"column\": \"RowNumber\",\n      \"properties\": {\n        \"dtype\": \"number\",\n        \"std\": 87,\n        \"min\": 1,\n        \"max\": 301,\n        \"num_unique_values\": 301,\n        \"samples\": [\n          178,\n          290,\n          229\n        ],\n        \"semantic_type\": \"\",\n        \"description\": \"\"\n      }\n    },\n    {\n      \"column\": \"CustomerId\",\n      \"properties\": {\n        \"dtype\": \"number\",\n        \"std\": 71678,\n        \"min\": 15568748,\n        \"max\": 15813844,\n        \"num_unique_values\": 301,\n        \"samples\": [\n          15790355,\n          15697307,\n          15637753\n        ],\n        \"semantic_type\": \"\",\n        \"description\": \"\"\n      }\n    },\n    {\n      \"column\": \"Surname\",\n      \"properties\": {\n        \"dtype\": \"string\",\n        \"num_unique_values\": 271,\n        \"samples\": [\n          \"Azikiwe\",\n          \"Culbreth\",\n          \"Postle\"\n        ],\n        \"semantic_type\": \"\",\n        \"description\": \"\"\n      }\n    },\n    {\n      \"column\": \"CreditScore\",\n      \"properties\": {\n        \"dtype\": \"number\",\n        \"std\": 103,\n        \"min\": 376,\n        \"max\": 850,\n        \"num_unique_values\": 204,\n        \"samples\": [\n          616,\n          684,\n          461\n        ],\n        \"semantic_type\": \"\",\n        \"description\": \"\"\n      }\n    },\n    {\n      \"column\": \"Geography\",\n      \"properties\": {\n        \"dtype\": \"category\",\n        \"num_unique_values\": 3,\n        \"samples\": [\n          \"France\",\n          \"Spain\",\n          \"Germany\"\n        ],\n        \"semantic_type\": \"\",\n        \"description\": \"\"\n      }\n    },\n    {\n      \"column\": \"Gender\",\n      \"properties\": {\n        \"dtype\": \"category\",\n        \"num_unique_values\": 2,\n        \"samples\": [\n          \"Male\",\n          \"Female\"\n        ],\n        \"semantic_type\": \"\",\n        \"description\": \"\"\n      }\n    },\n    {\n      \"column\": \"Age\",\n      \"properties\": {\n        \"dtype\": \"number\",\n        \"std\": 9,\n        \"min\": 19,\n        \"max\": 79,\n        \"num_unique_values\": 48,\n        \"samples\": [\n          56,\n          47\n        ],\n        \"semantic_type\": \"\",\n        \"description\": \"\"\n      }\n    },\n    {\n      \"column\": \"Tenure\",\n      \"properties\": {\n        \"dtype\": \"number\",\n        \"std\": 2,\n        \"min\": 0,\n        \"max\": 10,\n        \"num_unique_values\": 11,\n        \"samples\": [\n          6,\n          2\n        ],\n        \"semantic_type\": \"\",\n        \"description\": \"\"\n      }\n    },\n    {\n      \"column\": \"Balance\",\n      \"properties\": {\n        \"dtype\": \"number\",\n        \"std\": 62093.842130978,\n        \"min\": 0.0,\n        \"max\": 213146.2,\n        \"num_unique_values\": 186,\n        \"samples\": [\n          101993.12,\n          184686.41\n        ],\n        \"semantic_type\": \"\",\n        \"description\": \"\"\n      }\n    },\n    {\n      \"column\": \"NumOfProducts\",\n      \"properties\": {\n        \"dtype\": \"number\",\n        \"std\": 0,\n        \"min\": 1,\n        \"max\": 4,\n        \"num_unique_values\": 4,\n        \"samples\": [\n          3,\n          4\n        ],\n        \"semantic_type\": \"\",\n        \"description\": \"\"\n      }\n    },\n    {\n      \"column\": \"HasCrCard\",\n      \"properties\": {\n        \"dtype\": \"number\",\n        \"std\": 0,\n        \"min\": 0,\n        \"max\": 1,\n        \"num_unique_values\": 2,\n        \"samples\": [\n          0,\n          1\n        ],\n        \"semantic_type\": \"\",\n        \"description\": \"\"\n      }\n    },\n    {\n      \"column\": \"IsActiveMember\",\n      \"properties\": {\n        \"dtype\": \"number\",\n        \"std\": 0,\n        \"min\": 0,\n        \"max\": 1,\n        \"num_unique_values\": 2,\n        \"samples\": [\n          0,\n          1\n        ],\n        \"semantic_type\": \"\",\n        \"description\": \"\"\n      }\n    },\n    {\n      \"column\": \"EstimatedSalary\",\n      \"properties\": {\n        \"dtype\": \"number\",\n        \"std\": 57175.542070971984,\n        \"min\": 600.36,\n        \"max\": 199725.39,\n        \"num_unique_values\": 301,\n        \"samples\": [\n          179351.89,\n          79078.91\n        ],\n        \"semantic_type\": \"\",\n        \"description\": \"\"\n      }\n    },\n    {\n      \"column\": \"Exited\",\n      \"properties\": {\n        \"dtype\": \"number\",\n        \"std\": 0,\n        \"min\": 0,\n        \"max\": 1,\n        \"num_unique_values\": 2,\n        \"samples\": [\n          0,\n          1\n        ],\n        \"semantic_type\": \"\",\n        \"description\": \"\"\n      }\n    },\n    {\n      \"column\": \"Complain\",\n      \"properties\": {\n        \"dtype\": \"number\",\n        \"std\": 0,\n        \"min\": 0,\n        \"max\": 1,\n        \"num_unique_values\": 2,\n        \"samples\": [\n          0,\n          1\n        ],\n        \"semantic_type\": \"\",\n        \"description\": \"\"\n      }\n    },\n    {\n      \"column\": \"Satisfaction Score\",\n      \"properties\": {\n        \"dtype\": \"number\",\n        \"std\": 1,\n        \"min\": 1,\n        \"max\": 5,\n        \"num_unique_values\": 5,\n        \"samples\": [\n          3,\n          1\n        ],\n        \"semantic_type\": \"\",\n        \"description\": \"\"\n      }\n    },\n    {\n      \"column\": \"Card Type\",\n      \"properties\": {\n        \"dtype\": \"category\",\n        \"num_unique_values\": 4,\n        \"samples\": [\n          \"GOLD\",\n          \"PLATINUM\"\n        ],\n        \"semantic_type\": \"\",\n        \"description\": \"\"\n      }\n    },\n    {\n      \"column\": \"Point Earned\",\n      \"properties\": {\n        \"dtype\": \"number\",\n        \"std\": 223,\n        \"min\": 119,\n        \"max\": 994,\n        \"num_unique_values\": 249,\n        \"samples\": [\n          427,\n          206\n        ],\n        \"semantic_type\": \"\",\n        \"description\": \"\"\n      }\n    }\n  ]\n}"
            }
          },
          "metadata": {},
          "execution_count": 63
        }
      ]
    },
    {
      "cell_type": "code",
      "source": [],
      "metadata": {
        "id": "3dB_FiYxwNE6"
      },
      "execution_count": null,
      "outputs": []
    }
  ]
}