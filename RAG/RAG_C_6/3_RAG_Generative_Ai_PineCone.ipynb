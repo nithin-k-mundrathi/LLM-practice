{
  "nbformat": 4,
  "nbformat_minor": 0,
  "metadata": {
    "colab": {
      "provenance": [],
      "gpuType": "T4",
      "authorship_tag": "ABX9TyMMP5akOhlfHCyB94YgfrEg",
      "include_colab_link": true
    },
    "kernelspec": {
      "name": "python3",
      "display_name": "Python 3"
    },
    "language_info": {
      "name": "python"
    },
    "accelerator": "GPU"
  },
  "cells": [
    {
      "cell_type": "markdown",
      "metadata": {
        "id": "view-in-github",
        "colab_type": "text"
      },
      "source": [
        "<a href=\"https://colab.research.google.com/github/nithin-k-mundrathi/LLM-practice/blob/main/RAG/RAG_C_6/3_RAG_Generative_Ai_PineCone.ipynb\" target=\"_parent\"><img src=\"https://colab.research.google.com/assets/colab-badge.svg\" alt=\"Open In Colab\"/></a>"
      ]
    },
    {
      "cell_type": "code",
      "execution_count": 1,
      "metadata": {
        "colab": {
          "base_uri": "https://localhost:8080/"
        },
        "id": "nnm6QwI0xd91",
        "outputId": "c7a6b346-c08c-4130-d7e5-bdd301253437"
      },
      "outputs": [
        {
          "output_type": "stream",
          "name": "stdout",
          "text": [
            "Mounted at /content/drive\n"
          ]
        }
      ],
      "source": [
        "from google.colab import drive\n",
        "drive.mount('/content/drive')"
      ]
    },
    {
      "cell_type": "code",
      "source": [
        "%%capture\n",
        "!pip install pinecone-client==5.0.1"
      ],
      "metadata": {
        "id": "0LtcFjK-xmr7"
      },
      "execution_count": 23,
      "outputs": []
    },
    {
      "cell_type": "code",
      "source": [
        "f = open(\"pinecone.txt\", \"r\")\n",
        "PINECONE_API_KEY=f.readline()\n",
        "f.close()"
      ],
      "metadata": {
        "id": "CkXH2R2xxtmX"
      },
      "execution_count": 4,
      "outputs": []
    },
    {
      "cell_type": "markdown",
      "source": [
        "## The Pinecone index"
      ],
      "metadata": {
        "id": "v4A5CUZrx3hD"
      }
    },
    {
      "cell_type": "code",
      "source": [
        "import os\n",
        "from pinecone import Pinecone, ServerlessSpec\n",
        "\n",
        "# initialize connection to pinecone (get API key at app.pinecone.io)\n",
        "api_key = os.environ.get('PINECONE_API_KEY') or 'PINECONE_API_KEY'\n",
        "\n",
        "from pinecone import Pinecone, ServerlessSpec\n",
        "pc = Pinecone(api_key=PINECONE_API_KEY)"
      ],
      "metadata": {
        "id": "H27iQTz6x0oi"
      },
      "execution_count": 5,
      "outputs": []
    },
    {
      "cell_type": "code",
      "source": [
        "from pinecone import ServerlessSpec\n",
        "\n",
        "index_name = 'bank-index-50000'\n",
        "cloud = os.environ.get('PINECONE_CLOUD') or 'aws'\n",
        "region = os.environ.get('PINECONE_REGION') or 'us-east-1'\n",
        "\n",
        "spec = ServerlessSpec(cloud=cloud, region=region)"
      ],
      "metadata": {
        "id": "gC018ZSkx5nv"
      },
      "execution_count": 6,
      "outputs": []
    },
    {
      "cell_type": "code",
      "source": [
        "import time\n",
        "import pinecone\n",
        "# check if index already exists (it shouldn't if this is first time)\n",
        "if index_name not in pc.list_indexes().names():\n",
        "    # if does not exist, create index\n",
        "    pc.create_index(\n",
        "        index_name,\n",
        "        dimension=384,  # dimension of the embedding model\n",
        "        metric='cosine',\n",
        "        spec=spec\n",
        "    )\n",
        "    # wait for index to be initialized\n",
        "    time.sleep(1)\n",
        "\n",
        "# connect to index\n",
        "index = pc.Index(index_name)\n",
        "# view index stats\n",
        "index.describe_index_stats()"
      ],
      "metadata": {
        "colab": {
          "base_uri": "https://localhost:8080/"
        },
        "id": "QFamN0Hdx65y",
        "outputId": "ebb1abb1-93d0-4d68-9e08-2ffd3bc4b910"
      },
      "execution_count": 7,
      "outputs": [
        {
          "output_type": "execute_result",
          "data": {
            "text/plain": [
              "{'dimension': 384,\n",
              " 'index_fullness': 0.0,\n",
              " 'namespaces': {'': {'vector_count': 301}},\n",
              " 'total_vector_count': 301}"
            ]
          },
          "metadata": {},
          "execution_count": 7
        }
      ]
    },
    {
      "cell_type": "markdown",
      "source": [
        "## RAG with GPT-4o\n",
        "Query the dataset"
      ],
      "metadata": {
        "id": "2ovQR1pryAja"
      }
    },
    {
      "cell_type": "code",
      "source": [
        "%%capture\n",
        "from sentence_transformers import SentenceTransformer\n",
        "model_sentence = SentenceTransformer('all-MiniLm-L6-v2')"
      ],
      "metadata": {
        "id": "RcqS_UZNyHp9"
      },
      "execution_count": 24,
      "outputs": []
    },
    {
      "cell_type": "code",
      "source": [
        "def get_embedding(text, model=model_sentence):\n",
        "    text = text.replace(\"\\n\", \" \")\n",
        "    embedding = model.encode(text,ignore_errors=True)\n",
        "    return embedding"
      ],
      "metadata": {
        "id": "o42Ci3nDx_7I"
      },
      "execution_count": 11,
      "outputs": []
    },
    {
      "cell_type": "code",
      "source": [
        "\n",
        "import time\n",
        "start_time = time.time()\n",
        "query_text = \"Customer Hill CreditScore 608Age 41 Tenure 1Balance 83807.86NumOfProducts 1HasCrCard 0IsActiveMember 1EstimatedSalary 112542.58 Exited 0Complain 1Satisfaction Score 3Card Type DIAMONDPoint Earned 456\"\n",
        "query_embedding = get_embedding(query_text,model=model_sentence)"
      ],
      "metadata": {
        "id": "TJeEVhKLx96l"
      },
      "execution_count": 14,
      "outputs": []
    },
    {
      "cell_type": "code",
      "source": [
        "# Perform the query using the embedding\n",
        "query_results = index.query(\n",
        "    vector=query_embedding.tolist(),\n",
        "    include_metadata=True,\n",
        "    top_k=1\n",
        ")\n",
        "# Print the query results along with metadata\n",
        "print(\"Query Results:\")\n",
        "for match in query_results['matches']:\n",
        "    print(f\"ID: {match['id']}, Score: {match['score']}\")\n",
        "    if 'metadata' in match and 'text' in match['metadata']:\n",
        "        print(f\"Text: {match['metadata']['text']}\")\n",
        "    else:\n",
        "        print(\"No metadata available.\")\n",
        "\n",
        "response_time = time.time() - start_time              # Measure response time\n",
        "print(f\"Querying response time: {response_time:.2f} seconds\")  # Print response time"
      ],
      "metadata": {
        "colab": {
          "base_uri": "https://localhost:8080/"
        },
        "id": "bcl_DtZqyVF6",
        "outputId": "0ab30eb8-77ea-4666-ec26-3fb192c4fd3f"
      },
      "execution_count": 15,
      "outputs": [
        {
          "output_type": "stream",
          "name": "stdout",
          "text": [
            "Query Results:\n",
            "ID: 2, Score: 0.714985251\n",
            "Text: RowNumber: 2 CustomerId: 15647311 Surname: Hill CreditScore: 608 Geography: Spain Gender: Female Age: 41 Tenure: 1 Balance: 83807.86 NumOfProducts: 1 HasCrCard: 0 IsActiveMember: 1 EstimatedSalary: 112542.58 Exited: 0 Complain: 1 Satisfaction Score: 3 Card Type: DIAMOND Point Earned: 456\n",
            "Querying response time: 1.10 seconds\n"
          ]
        }
      ]
    },
    {
      "cell_type": "markdown",
      "source": [
        "## Extract Relevant Texts"
      ],
      "metadata": {
        "id": "1Tq28c0lyhTw"
      }
    },
    {
      "cell_type": "code",
      "source": [
        "relevant_texts = [match['metadata']['text'] for match in query_results['matches'] if 'metadata' in match and 'text' in match['metadata']]\n",
        "\n",
        "# Join all items in the list into a single string separated by a specific delimiter (e.g., a newline or space)\n",
        "combined_text = '\\n'.join(relevant_texts)  # Using newline as a separator for readability\n",
        "print(combined_text)"
      ],
      "metadata": {
        "colab": {
          "base_uri": "https://localhost:8080/"
        },
        "id": "giMLEa0eyagz",
        "outputId": "ec5f124a-bca3-4341-c91e-a55db6b57d31"
      },
      "execution_count": 16,
      "outputs": [
        {
          "output_type": "stream",
          "name": "stdout",
          "text": [
            "RowNumber: 2 CustomerId: 15647311 Surname: Hill CreditScore: 608 Geography: Spain Gender: Female Age: 41 Tenure: 1 Balance: 83807.86 NumOfProducts: 1 HasCrCard: 0 IsActiveMember: 1 EstimatedSalary: 112542.58 Exited: 0 Complain: 1 Satisfaction Score: 3 Card Type: DIAMOND Point Earned: 456\n"
          ]
        }
      ]
    },
    {
      "cell_type": "markdown",
      "source": [
        "## Augemented Prompts"
      ],
      "metadata": {
        "id": "kq2H00bPyl3J"
      }
    },
    {
      "cell_type": "code",
      "source": [
        "# Combine texts into a single string, separated by new lines\n",
        "combined_context = \"\\n\".join(relevant_texts)\n",
        "#prompt\n",
        "query_prompt=\"I have this customer bank record with interesting information on age, credit score and more and similar customers. What could I suggest to keep them in my bank in an email with an url to get new advantages based on the fields for each Customer ID:\"\n",
        "itext=query_prompt+ query_text+combined_context\n",
        "# Augmented input\n",
        "print(\"Prompt for the Generative AI model:\", itext)"
      ],
      "metadata": {
        "colab": {
          "base_uri": "https://localhost:8080/"
        },
        "id": "qujW6VXjykGs",
        "outputId": "88e4b75d-daaf-45dd-a789-bb03fa3a92e3"
      },
      "execution_count": 17,
      "outputs": [
        {
          "output_type": "stream",
          "name": "stdout",
          "text": [
            "Prompt for the Generative AI model: I have this customer bank record with interesting information on age, credit score and more and similar customers. What could I suggest to keep them in my bank in an email with an url to get new advantages based on the fields for each Customer ID:Customer Hill CreditScore 608Age 41 Tenure 1Balance 83807.86NumOfProducts 1HasCrCard 0IsActiveMember 1EstimatedSalary 112542.58 Exited 0Complain 1Satisfaction Score 3Card Type DIAMONDPoint Earned 456RowNumber: 2 CustomerId: 15647311 Surname: Hill CreditScore: 608 Geography: Spain Gender: Female Age: 41 Tenure: 1 Balance: 83807.86 NumOfProducts: 1 HasCrCard: 0 IsActiveMember: 1 EstimatedSalary: 112542.58 Exited: 0 Complain: 1 Satisfaction Score: 3 Card Type: DIAMOND Point Earned: 456\n"
          ]
        }
      ]
    },
    {
      "cell_type": "markdown",
      "source": [
        "## Augmented generation"
      ],
      "metadata": {
        "id": "bHYkfAFSywUZ"
      }
    },
    {
      "cell_type": "code",
      "source": [
        "f = open(\"open-aikey.txt\", \"r\")\n",
        "API_KEY=f.readline()\n",
        "f.close()"
      ],
      "metadata": {
        "id": "3CIy2tPUzJKj"
      },
      "execution_count": 19,
      "outputs": []
    },
    {
      "cell_type": "code",
      "source": [
        "#The OpenAI Key\n",
        "import os\n",
        "import openai\n",
        "os.environ['OPENAI_API_KEY'] =API_KEY\n",
        "openai.api_key = os.getenv(\"OPENAI_API_KEY\")"
      ],
      "metadata": {
        "id": "GsA7a0rlzJju"
      },
      "execution_count": 20,
      "outputs": []
    },
    {
      "cell_type": "code",
      "source": [
        "import openai\n",
        "import time\n",
        "\n",
        "# Initialize the OpenAI client\n",
        "client = openai.OpenAI()\n",
        "\n",
        "gpt_model = \"gpt-4o-mini\"\n",
        "\n",
        "import time\n",
        "start_time = time.time()  # Start timing before the request\n",
        "\n",
        "response = client.chat.completions.create(\n",
        "  model=gpt_model,\n",
        "  messages=[\n",
        "    {\n",
        "      \"role\": \"system\",\n",
        "      \"content\": \"You are the community manager can write engaging email based on the text you have. Do not use a surname but simply Dear Valued Customer instead.\"\n",
        "    },\n",
        "    {\n",
        "      \"role\": \"user\",\n",
        "      \"content\": itext\n",
        "    }\n",
        "  ],\n",
        "  temperature=0,\n",
        "  max_tokens=300,\n",
        "  top_p=1,\n",
        "  frequency_penalty=0,\n",
        "  presence_penalty=0\n",
        ")\n",
        "print(response.choices[0].message.content)\n",
        "\n",
        "response_time = time.time() - start_time              # Measure response time\n",
        "print(f\"Querying response time: {response_time:.2f} seconds\")  # Print response time"
      ],
      "metadata": {
        "colab": {
          "base_uri": "https://localhost:8080/"
        },
        "id": "-ECCQeYiypfX",
        "outputId": "1551196d-2de4-4084-94cb-110b0213511e"
      },
      "execution_count": 22,
      "outputs": [
        {
          "output_type": "stream",
          "name": "stdout",
          "text": [
            "Subject: Unlock Exclusive Benefits Tailored Just for You!\n",
            "\n",
            "Dear Valued Customer,\n",
            "\n",
            "We hope this message finds you well! At our bank, we are committed to providing you with the best possible experience and ensuring that you have access to exclusive benefits that suit your needs.\n",
            "\n",
            "We noticed that you have been with us for a year and have a Diamond Card, which comes with its own set of advantages. However, we believe there’s even more we can offer you to enhance your banking experience. \n",
            "\n",
            "Here are a few personalized suggestions based on your profile:\n",
            "\n",
            "1. **Enhanced Credit Options**: With your current credit score, you may qualify for better credit products that can help you manage your finances more effectively.\n",
            "\n",
            "2. **Loyalty Rewards**: As a valued customer, you can earn additional points on your Diamond Card. The more you use it, the more rewards you can accumulate!\n",
            "\n",
            "3. **Financial Planning Services**: Our financial advisors are here to help you make the most of your estimated salary and balance. Schedule a consultation to explore investment opportunities tailored to your goals.\n",
            "\n",
            "4. **Exclusive Promotions**: Keep an eye out for special offers and promotions that are available only to our active members like you!\n",
            "\n",
            "To explore these benefits and more, please visit [this link](#) to see how you can maximize your banking experience with us.\n",
            "\n",
            "Thank you for being a part of our community. We appreciate your trust in us and look forward to serving you better!\n",
            "\n",
            "Warm regards,\n",
            "\n",
            "[Your Name]\n",
            "Querying response time: 3.83 seconds\n"
          ]
        }
      ]
    },
    {
      "cell_type": "code",
      "source": [],
      "metadata": {
        "id": "S1dwmCiWzPcv"
      },
      "execution_count": null,
      "outputs": []
    }
  ]
}